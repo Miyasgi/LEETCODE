{
 "cells": [
  {
   "cell_type": "markdown",
   "metadata": {},
   "source": [
    "## Content\n",
    "\n",
    "In an alien language, surprisingly, they also use English lowercase letters, but possibly in a different order. The order of the alphabet is some permutation of lowercase letters.\n",
    "\n",
    "Given a sequence of words written in the alien language, and the order of the alphabet, return true if and only if the given words are sorted lexicographically in this alien language.\n",
    "\n",
    " \n",
    "\n",
    "Example 1:\n",
    "\n",
    "Input: words = [\"hello\",\"leetcode\"], order = \"hlabcdefgijkmnopqrstuvwxyz\"\n",
    "Output: true\n",
    "Explanation: As 'h' comes before 'l' in this language, then the sequence is sorted.\n",
    "\n",
    "\n",
    "\n",
    "\n",
    "Example 2:\n",
    "\n",
    "Input: words = [\"word\",\"world\",\"row\"], order = \"worldabcefghijkmnpqstuvxyz\"\n",
    "Output: false\n",
    "Explanation: As 'd' comes after 'l' in this language, then words[0] > words[1], hence the sequence is unsorted.\n",
    "\n",
    "\n",
    "\n",
    "\n",
    "Example 3:\n",
    "\n",
    "Input: words = [\"apple\",\"app\"], order = \"abcdefghijklmnopqrstuvwxyz\"\n",
    "Output: false\n",
    "Explanation: The first three characters \"app\" match, and the second string is shorter (in size.) According to lexicographical rules \"apple\" > \"app\", because 'l' > '∅', where '∅' is defined as the blank character which is less than any other character (More info).\n",
    " \n",
    "\n",
    "## Constraints:\n",
    "\n",
    "1 <= words.length <= 100\n",
    "\n",
    "\n",
    "1 <= words[i].length <= 20\n",
    "\n",
    "\n",
    "order.length == 26\n",
    "\n",
    "\n",
    "All characters in words[i] and order are English lowercase letters."
   ]
  },
  {
   "cell_type": "markdown",
   "metadata": {},
   "source": [
    "## 自己想法\n",
    "1. 题有点难读懂，只能去看答案"
   ]
  },
  {
   "cell_type": "markdown",
   "metadata": {},
   "source": [
    "Approach 1: Compare adjacent words\n",
    "Intuition\n",
    "\n",
    "Following the above overview, we want to compare each pair of adjacent words to see if they are sorted lexicographically. This can be achieved by a naive for-loop iterating over the input array. We can store the letter-order relation of each letter with its ranking in order, so that we can easily access the order of letters when we compare them.\n",
    "\n",
    "The remaining piece of the puzzle is how to compare two words lexicographically. This is not difficult, but there are a few edge cases that we must consider. To compare two adjacent words words[i] and words[i+1], we want to find the first letter that is different: if words[i] has the lexicographically smaller letter, then we can exit from the iteration because we know words[i] and words[i+1] are in the right order; however, if words[i] has the lexicographically larger letter, then we immediately return false, because we found one pair of words that are in the wrong order.\n",
    "\n",
    "We also need to consider the boundaries. While we loop from the beginning to the end of one word, we need to check if the other word has ended. Take the words apple and app as an example, we cannot iterate over all of the letters in apple because the word app is shorter. In this case, we reach the end of one word before finding the first different letter. When this happens, we must examine the length of each word: if the words are the same length or the former word is shorter, then words is sorted. However, if the latter word is shorter, then words is not sorted.\n",
    "\n",
    "Algorithm\n",
    "\n",
    "Initialize a hashmap/array to record the relations between each letter and its ranking in order.\n",
    "Iterate over words and compare each pair of adjacent words.\n",
    "Iterate over each letter to find the first different letter between words[i] and words[i + 1].\n",
    "If words[i + 1] ends before words[i] and no different letters are found, then we need to return false because words[i + 1] should come before words[i] (for example, apple and app).\n",
    "If we find the first different letter and the two words are in the correct order, then we can exit from the current iteration and proceed to the next pair of words.\n",
    "If we find the first different letter and the two words are in the wrong order, then we can safely return false.\n",
    "If we reach this point, it means that we have examined all pairs of adjacent words and that they are all sorted. Therefore we can return true.\n",
    "\n",
    "## 方法1：比较相邻的单词\n",
    "直觉\n",
    "\n",
    "根据上面的概述，我们要比较每一对相邻的词，看它们是否按词法排序。这可以通过一个在输入数组上迭代的天真for-loop来实现。我们可以存储每个字母的字母顺序关系，并按顺序排列，这样我们在比较时就可以很容易地访问字母的顺序。\n",
    "\n",
    "剩下的一块难题是如何对两个词进行词典式的比较。这并不难，但有一些边缘情况我们必须考虑。要比较两个相邻的单词word[i]和word[i+1]，我们要找到第一个不同的字母：如果word[i]有词典上较小的字母，那么我们可以退出迭代，因为我们知道word[i]和word[i+1]的顺序是正确的；然而，如果word[i]有词典上较大的字母，那么我们立即返回错误，因为我们发现有一对单词的顺序是错误的。\n",
    "\n",
    "我们还需要考虑边界的问题。当我们从一个词的开头循环到结尾时，我们需要检查另一个词是否已经结束。以apple和app这两个词为例，我们不能迭代apple中的所有字母，因为app这个词比较短。在这种情况下，我们在找到第一个不同的字母之前就已经到达了一个单词的结尾。当这种情况发生时，我们必须检查每个单词的长度：如果单词的长度相同或者前一个单词更短，那么单词就被排序了。然而，如果后一个单词更短，那么单词就不会被排序。\n",
    "\n",
    "## 算法\n",
    "\n",
    "1. 初始化一个哈希玛/数组，记录每个字母之间的关系和它的排序。\n",
    "2. 遍历单词，比较每一对相邻的单词。\n",
    "    遍历每个字母，找出 words[i] 和 words[i + 1] 之间第一个不同的字母。\n",
    "\n",
    "        如果 words[i + 1] 在 words[i] 之前结束，并且没有发现不同的字母，那么我们需要返回 false，因为 words[i + 1] 应该在 words[i] 之前（例如，apple 和 app）。\n",
    "\n",
    "        如果我们找到了第一个不同的字母，并且这两个词的顺序是正确的，那么我们就可以退出当前的迭代，继续进行下一对词。\n",
    "\n",
    "        如果我们找到了第一个不同的字母，并且这两个词的顺序是错误的，那么我们可以安全地返回false。\n",
    "        \n",
    "3. 如果我们达到这一点，就意味着我们已经检查了所有相邻的词对，并且它们都被排序了。因此我们可以返回true。\n",
    "\n"
   ]
  },
  {
   "cell_type": "markdown",
   "metadata": {},
   "source": []
  },
  {
   "cell_type": "code",
   "execution_count": 1,
   "metadata": {},
   "outputs": [],
   "source": [
    "def isAlienSortered(words, order:str):\n",
    "    order_map = {}\n",
    "    for index, val in enumerate(order):\n",
    "        order_map[val] = index\n",
    "\n",
    "    for i in range(len(words) -1):\n",
    "        for j in range(len(words[i])):\n",
    "\n",
    "            if j>= len(words[i+1]):\n",
    "                return False\n",
    "            \n",
    "            if words[i][j] != words[i+1][j]:\n",
    "                if order_map[words[i][j]] > order_map[words[i+1][j]]:\n",
    "                    return False\n",
    "                    break\n",
    "    return True\n",
    "\n"
   ]
  }
 ],
 "metadata": {
  "interpreter": {
   "hash": "d92af96a0148a8d5d2a0fe594a313801aeb1b58206d2c150cb513f496f2d1b1d"
  },
  "kernelspec": {
   "display_name": "Python 3.8.1 64-bit",
   "language": "python",
   "name": "python3"
  },
  "language_info": {
   "codemirror_mode": {
    "name": "ipython",
    "version": 3
   },
   "file_extension": ".py",
   "mimetype": "text/x-python",
   "name": "python",
   "nbconvert_exporter": "python",
   "pygments_lexer": "ipython3",
   "version": "3.8.1"
  },
  "orig_nbformat": 4
 },
 "nbformat": 4,
 "nbformat_minor": 2
}
