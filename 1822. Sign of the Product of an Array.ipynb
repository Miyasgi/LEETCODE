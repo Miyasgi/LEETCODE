{
 "cells": [
  {
   "cell_type": "markdown",
   "metadata": {},
   "source": [
    "There is a function signFunc(x) that returns:\n",
    "\n",
    "1 if x is positive.\n",
    "-1 if x is negative.\n",
    "0 if x is equal to 0.\n",
    "You are given an integer array nums. Let product be the product of all values in the array nums.\n",
    "\n",
    "Return signFunc(product).\n",
    "\n",
    " \n",
    "\n",
    "Example 1:\n",
    "\n",
    "Input: nums = [-1,-2,-3,-4,3,2,1]\n",
    "Output: 1\n",
    "Explanation: The product of all values in the array is 144, and signFunc(144) = 1\n",
    "Example 2:\n",
    "\n",
    "Input: nums = [1,5,0,2,-3]\n",
    "Output: 0\n",
    "Explanation: The product of all values in the array is 0, and signFunc(0) = 0\n",
    "Example 3:\n",
    "\n",
    "Input: nums = [-1,1,-1,1,-1]\n",
    "Output: -1\n",
    "Explanation: The product of all values in the array is -1, and signFunc(-1) = -1\n",
    " \n",
    "\n",
    "## Constraints:\n",
    "\n",
    "1 <= nums.length <= 1000\n",
    "-100 <= nums[i] <= 100"
   ]
  },
  {
   "cell_type": "markdown",
   "metadata": {},
   "source": [
    "自己思路：跳过现象看本质，这个不就是看负数的个数么，如果是奇数，就返回-1，如果是偶数就返回1.\n",
    "\n",
    "对里面的元素进行遍历，\n",
    "1.首先看里面有没有0，如果有，直接返回0.\n",
    "2.如果没有0，就开始对里面元素进行遍历，小于0，计数器就+1\n",
    "3.判断计数器能不能被2整除，能的话返回1，不能返回-1"
   ]
  },
  {
   "cell_type": "code",
   "execution_count": 3,
   "metadata": {},
   "outputs": [],
   "source": [
    "def arraySign(nums):\n",
    "    ans=0\n",
    "    for i in range(len(nums)):\n",
    "        if nums[i]==0:\n",
    "            return 0\n",
    "        if nums[i]<0:\n",
    "            ans +=1\n",
    "    \n",
    "    if ans%2==0:\n",
    "        return 1\n",
    "    else:\n",
    "        return -1\n",
    "    \n"
   ]
  },
  {
   "cell_type": "code",
   "execution_count": 6,
   "metadata": {},
   "outputs": [
    {
     "data": {
      "text/plain": [
       "-1"
      ]
     },
     "execution_count": 6,
     "metadata": {},
     "output_type": "execute_result"
    }
   ],
   "source": [
    "#nums = [-1,-2,-3,-4,3,2,1]\n",
    "#nums = [1,5,0,2,-3]\n",
    "nums = [-1,1,-1,1,-1]\n",
    "arraySign(nums)"
   ]
  },
  {
   "cell_type": "markdown",
   "metadata": {},
   "source": [
    "Success\n",
    "Details \n",
    "Runtime: 52 ms, faster than 99.74% of Python3 online submissions for Sign of the Product of an Array.\n",
    "Memory Usage: 14 MB, less than 40.57% of Python3 online submissions for Sign of the Product of an Array."
   ]
  },
  {
   "cell_type": "markdown",
   "metadata": {},
   "source": [
    "自律还在继续，每周的工作日刷题没停过，游泳也在继续。"
   ]
  }
 ],
 "metadata": {
  "interpreter": {
   "hash": "d92af96a0148a8d5d2a0fe594a313801aeb1b58206d2c150cb513f496f2d1b1d"
  },
  "kernelspec": {
   "display_name": "Python 3.8.1 64-bit",
   "language": "python",
   "name": "python3"
  },
  "language_info": {
   "codemirror_mode": {
    "name": "ipython",
    "version": 3
   },
   "file_extension": ".py",
   "mimetype": "text/x-python",
   "name": "python",
   "nbconvert_exporter": "python",
   "pygments_lexer": "ipython3",
   "version": "3.8.1"
  },
  "orig_nbformat": 4
 },
 "nbformat": 4,
 "nbformat_minor": 2
}
