{
 "cells": [
  {
   "cell_type": "markdown",
   "metadata": {},
   "source": [
    "ven the root of a binary tree, return the sum of all left leaves.\n",
    "\n",
    "A leaf is a node with no children. A left leaf is a leaf that is the left child of another node.\n",
    "\n",
    " \n",
    "\n",
    "Example 1:\n",
    "<img src=\"pics/404.jpg\">\n",
    "\n",
    "Input: root = [3,9,20,null,null,15,7]\n",
    "\n",
    "Output: 24\n",
    "\n",
    "Explanation: There are two left leaves in the binary tree, with values 9 and 15 respectively.\n",
    "\n",
    "Example 2:\n",
    "\n",
    "\n",
    "Input: root = [1]\n",
    "\n",
    "Output: 0\n",
    " \n",
    "\n",
    "## Constraints:\n",
    "\n",
    "The number of nodes in the tree is in the range [1, 1000].\n",
    "-1000 <= Node.val <= 1000"
   ]
  },
  {
   "cell_type": "markdown",
   "metadata": {},
   "source": [
    "## 自己想法\n",
    "1. 这道题还是考对二叉树概念的理解。\n",
    "2. 如果能找到就是正常的加和\n",
    "3. 要使用递归"
   ]
  },
  {
   "cell_type": "code",
   "execution_count": null,
   "metadata": {},
   "outputs": [],
   "source": [
    "def sumOfLeftLeaves(self, root):\n",
    "    if not root:\n",
    "        return 0\n",
    "    #这步要先判断左边的是否还有叶子，如果左边只剩根，没有叶子就直接左边值+右边的左边叶子（调用函数自己）\n",
    "    if root.left and not root.left.left and not root.left.right:\n",
    "        return root.left.val + self.sumOfLeftLeaves(root.right)\n",
    "    #如果有叶子，就直接调用函数自己做左右叶子的左叶子加和\n",
    "    else:\n",
    "        return self.sumOfLeftLeaves(root.left) + self.sumOfLeftLeaves(root.right)"
   ]
  },
  {
   "cell_type": "markdown",
   "metadata": {},
   "source": [
    "Runtime: 44 ms, faster than 53.39% of Python3 online submissions for Sum of Left Leaves.\n",
    "Memory Usage: 14.8 MB, less than 44.52% of Python3 online submissions for Sum of Left Leaves.\n",
    "Next challenges:\n",
    "Kth Largest Element in a Stream\n",
    "Number of Nodes in the Sub-Tree "
   ]
  }
 ],
 "metadata": {
  "language_info": {
   "name": "python"
  },
  "orig_nbformat": 4
 },
 "nbformat": 4,
 "nbformat_minor": 2
}
