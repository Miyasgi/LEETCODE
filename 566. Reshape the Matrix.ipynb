{
 "cells": [
  {
   "cell_type": "markdown",
   "metadata": {},
   "source": [
    "## Content\n",
    "\n",
    "In MATLAB, there is a handy function called reshape which can reshape an m x n matrix into a new one with a different size r x c keeping its original data.\n",
    "\n",
    "You are given an m x n matrix mat and two integers r and c representing the number of rows and the number of columns of the wanted reshaped matrix.\n",
    "\n",
    "The reshaped matrix should be filled with all the elements of the original matrix in the same row-traversing order as they were.\n",
    "\n",
    "### If the reshape operation with given parameters is possible and legal, output the new reshaped matrix; Otherwise, output the original matrix.\n",
    "\n",
    "Example 1:\n",
    "\n",
    "\n",
    "\n",
    "<img src=\"pics/566eg1.jpg\">\n",
    "\n",
    "Input: mat = [[1,2],[3,4]], r = 1, c = 4\n",
    "Output: [[1,2,3,4]]\n",
    "\n",
    "\n",
    "Example 2:\n",
    "\n",
    "\n",
    "\n",
    "<img src=\"pics/566eg2.jpg\">\n",
    "\n",
    "Input: mat = [[1,2],[3,4]], r = 2, c = 4\n",
    "Output: [[1,2],[3,4]]\n",
    "\n",
    "\n",
    "\n",
    "\n",
    "## Constraints:\n",
    "\n",
    "1. m == mat.length\n",
    "2. n == mat[i].length\n",
    "3. 1 <= m, n <= 100\n",
    "4. -1000 <= mat[i][j] <= 1000\n",
    "5. 1 <= r, c <= 300\n",
    " "
   ]
  },
  {
   "cell_type": "markdown",
   "metadata": {},
   "source": [
    "## 自己想法\n",
    "\n",
    "1. 脑子一片空白，需要想一下\n",
    "2. 先想限制条件，如果r*c != m*n,返回原值mat\n",
    "3. "
   ]
  },
  {
   "cell_type": "code",
   "execution_count": null,
   "metadata": {},
   "outputs": [],
   "source": [
    "def matrixReshape(self, mat, r: int, c: int):\n",
    "    m = len(mat)\n",
    "    n = len(mat[0])\n",
    "\n",
    "    if m*n != r *c:\n",
    "        return mat\n",
    "    \n",
    "    \n"
   ]
  },
  {
   "cell_type": "markdown",
   "metadata": {},
   "source": [
    "## 正确想法\n",
    "1. 头半段和我想得一样\n",
    "2. 要用内嵌循环\n"
   ]
  },
  {
   "cell_type": "code",
   "execution_count": 7,
   "metadata": {},
   "outputs": [],
   "source": [
    "def matrixReshape(mat, r: int, c: int):\n",
    "    m = len(mat)\n",
    "    n = len(mat[0])\n",
    "\n",
    "    if m*n != r *c:\n",
    "        return mat\n",
    "    \n",
    "    ans= [[]]\n",
    "\n",
    "    for i in range(m):\n",
    "        for j in range(n):\n",
    "            k = mat[i][j]\n",
    "            if len(ans[-1]) <c :\n",
    "                ans[-1].append(k)\n",
    "            else:\n",
    "                ans.append([k])\n",
    "    return ans"
   ]
  },
  {
   "cell_type": "code",
   "execution_count": 8,
   "metadata": {},
   "outputs": [
    {
     "data": {
      "text/plain": [
       "[[1, 2, 3, 4]]"
      ]
     },
     "execution_count": 8,
     "metadata": {},
     "output_type": "execute_result"
    }
   ],
   "source": [
    "mat = [[1,2],[3,4]]\n",
    "\n",
    "matrixReshape(mat=mat,r=1,c=4)"
   ]
  }
 ],
 "metadata": {
  "interpreter": {
   "hash": "d92af96a0148a8d5d2a0fe594a313801aeb1b58206d2c150cb513f496f2d1b1d"
  },
  "kernelspec": {
   "display_name": "Python 3.8.1 64-bit",
   "language": "python",
   "name": "python3"
  },
  "language_info": {
   "codemirror_mode": {
    "name": "ipython",
    "version": 3
   },
   "file_extension": ".py",
   "mimetype": "text/x-python",
   "name": "python",
   "nbconvert_exporter": "python",
   "pygments_lexer": "ipython3",
   "version": "3.8.1"
  },
  "orig_nbformat": 4
 },
 "nbformat": 4,
 "nbformat_minor": 2
}
