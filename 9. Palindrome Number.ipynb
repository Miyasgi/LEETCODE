{
 "cells": [
  {
   "cell_type": "markdown",
   "metadata": {},
   "source": [
    "# Palindrome Number\n",
    "Determine whether an integer is a palindrome. Do this without extra space.\n",
    "\n",
    "Some hints:\n",
    "Could negative integers be palindromes? (ie, -1)\n",
    "\n",
    "If you are thinking of converting the integer to string, note the restriction of using extra space.\n",
    "\n",
    "You could also try reversing an integer. However, if you have solved the problem \"Reverse Integer\", you know that the reversed integer might overflow. How would you handle such case?\n",
    "\n",
    "There is a more generic way of solving this problem."
   ]
  },
  {
   "cell_type": "code",
   "execution_count": 1,
   "metadata": {},
   "outputs": [],
   "source": [
    "def isPalindrome(x):\n",
    "    # Negative number can't be a palidrome number\n",
    "    if x < 0:\n",
    "        return False\n",
    "    # If int overflow, return false\n",
    "    if x > 2**32 - 1:\n",
    "        return False\n",
    "    # Check the first and last digits one by one\n",
    "    div = 1\n",
    "    while x//div >=10:\n",
    "        div = div * 10\n",
    "    \n",
    "    while x:\n",
    "        left = x // div\n",
    "        right = x % 10\n",
    "        \n",
    "        if left != right:\n",
    "            return False\n",
    "        \n",
    "        x = (x % div) // 10\n",
    "        div = div // 100\n",
    "    return True\n",
    "    "
   ]
  },
  {
   "cell_type": "code",
   "execution_count": 2,
   "metadata": {},
   "outputs": [
    {
     "data": {
      "text/plain": [
       "False"
      ]
     },
     "execution_count": 2,
     "metadata": {},
     "output_type": "execute_result"
    }
   ],
   "source": [
    "isPalindrome(123)"
   ]
  },
  {
   "cell_type": "code",
   "execution_count": 5,
   "metadata": {},
   "outputs": [
    {
     "data": {
      "text/plain": [
       "False"
      ]
     },
     "execution_count": 5,
     "metadata": {},
     "output_type": "execute_result"
    }
   ],
   "source": [
    "isPalindrome(1245675421)"
   ]
  },
  {
   "cell_type": "code",
   "execution_count": 6,
   "metadata": {},
   "outputs": [],
   "source": [
    "def isPalindromeTest(x):\n",
    "    # Negative number can't be a palidrome number\n",
    "    if x < 0:\n",
    "        return False\n",
    "    # If int overflow, return false\n",
    "    if x > 2**32 - 1:\n",
    "        return False\n",
    "    # Check the first and last digits one by one\n",
    "    div = 1\n",
    "    while x//div >=10:\n",
    "        div = div * 10\n",
    "        print(div)\n",
    "    \n",
    "    while x:\n",
    "        # Get the first left digit of int\n",
    "        left = x // div\n",
    "        # Get the last digit of the int\n",
    "        right = x % 10\n",
    "        print(left)\n",
    "        print(right)\n",
    "        \n",
    "        if left != right:\n",
    "            return False\n",
    "        \n",
    "        x = (x % div) // 10\n",
    "        print(x)\n",
    "        div = div // 100\n",
    "        print(div)\n",
    "    return True"
   ]
  },
  {
   "cell_type": "code",
   "execution_count": 9,
   "metadata": {},
   "outputs": [
    {
     "name": "stdout",
     "output_type": "stream",
     "text": [
      "10\n",
      "100\n",
      "1000\n",
      "10000\n",
      "100000\n",
      "1000000\n",
      "1\n",
      "1\n",
      "21312\n",
      "10000\n",
      "2\n",
      "2\n",
      "131\n",
      "100\n",
      "1\n",
      "1\n",
      "3\n",
      "1\n",
      "3\n",
      "3\n",
      "0\n",
      "0\n"
     ]
    },
    {
     "data": {
      "text/plain": [
       "True"
      ]
     },
     "execution_count": 9,
     "metadata": {},
     "output_type": "execute_result"
    }
   ],
   "source": [
    "isPalindromeTest(1213121)"
   ]
  },
  {
   "cell_type": "code",
   "execution_count": null,
   "metadata": {},
   "outputs": [],
   "source": []
  }
 ],
 "metadata": {
  "kernelspec": {
   "display_name": "Python 3",
   "language": "python",
   "name": "python3"
  },
  "language_info": {
   "codemirror_mode": {
    "name": "ipython",
    "version": 3
   },
   "file_extension": ".py",
   "mimetype": "text/x-python",
   "name": "python",
   "nbconvert_exporter": "python",
   "pygments_lexer": "ipython3",
   "version": "3.6.4"
  }
 },
 "nbformat": 4,
 "nbformat_minor": 2
}
