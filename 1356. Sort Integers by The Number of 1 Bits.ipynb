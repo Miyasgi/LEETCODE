{
 "cells": [
  {
   "cell_type": "markdown",
   "metadata": {},
   "source": [
    "You are given an integer array arr. Sort the integers in the array in ascending order by the number of 1's in their binary representation and in case of two or more integers have the same number of 1's you have to sort them in ascending order.\n",
    "\n",
    "Return the array after sorting it.\n",
    "\n",
    " \n",
    "\n",
    "Example 1:\n",
    "\n",
    "Input: arr = [0,1,2,3,4,5,6,7,8]\n",
    "\n",
    "Output: [0,1,2,4,8,3,5,6,7]\n",
    "\n",
    "Explantion: [0] is the only integer with 0 bits.\n",
    "\n",
    "[1,2,4,8] all have 1 bit.\n",
    "\n",
    "[3,5,6] have 2 bits.\n",
    "\n",
    "[7] has 3 bits.\n",
    "\n",
    "The sorted array by bits is [0,1,2,4,8,3,5,6,7]\n",
    "\n",
    "\n",
    "Example 2:\n",
    "\n",
    "Input: arr = [1024,512,256,128,64,32,16,8,4,2,1]\n",
    "\n",
    "Output: [1,2,4,8,16,32,64,128,256,512,1024]\n",
    "\n",
    "\n",
    "Explantion: All integers have 1 bit in the binary representation, you should just sort them in ascending order.\n",
    " \n",
    "\n",
    "## Constraints:\n",
    "\n",
    "1 <= arr.length <= 500\n",
    "0 <= arr[i] <= 104"
   ]
  },
  {
   "cell_type": "markdown",
   "metadata": {},
   "source": [
    "## 自己想法\n",
    "1. 题目归类是container & libraries。容器和函数集？\n",
    "2. 要先用现有的内置函数，把里面元素转化成字节\n",
    "3. 我只记得了一个ord 函数，拿字节的unicode code.\n",
    "4. 查了一下，可能要用bin函数\n",
    "5. 创建一个新arr保存转化后的j\n",
    "6. 排序后，用新的index输出旧的"
   ]
  },
  {
   "cell_type": "code",
   "execution_count": 1,
   "metadata": {},
   "outputs": [],
   "source": [
    "def sortByBites(arr):\n",
    "    newArr=[]\n",
    "    for i,j in enumerate(arr):\n",
    "        newArr.append(bin(j))\n",
    "    newArr.sort()\n",
    "    return arr[newArr.index]\n",
    "\n",
    "    \n"
   ]
  },
  {
   "cell_type": "markdown",
   "metadata": {},
   "source": [
    "## 正确思路\n",
    "1. 直接用lambda来数1的个数，以个数为key，来排列输出\n",
    "2. 注意lambda函数用法，里面的是单独的x"
   ]
  },
  {
   "cell_type": "code",
   "execution_count": 2,
   "metadata": {},
   "outputs": [],
   "source": [
    "def sortByBites(arr):\n",
    "    return sorted(arr, key=lambda x: (bin(x).count(\"1\"),x))"
   ]
  },
  {
   "cell_type": "markdown",
   "metadata": {},
   "source": [
    "Success\n",
    "Details \n",
    "Runtime: 74 ms, faster than 82.76% of Python3 online submissions for Sort Integers by The Number of 1 Bits.\n",
    "Memory Usage: 14.1 MB, less than 33.55% of Python3 online submissions for Sort Integers by The Number of 1 Bits.\n",
    "Next challenges:"
   ]
  }
 ],
 "metadata": {
  "interpreter": {
   "hash": "663dd40e2de813c0b0f595ebf54710d20b316650882efb44b9ca3a968cc17f71"
  },
  "kernelspec": {
   "display_name": "Python 3.8.1 64-bit",
   "language": "python",
   "name": "python3"
  },
  "language_info": {
   "codemirror_mode": {
    "name": "ipython",
    "version": 3
   },
   "file_extension": ".py",
   "mimetype": "text/x-python",
   "name": "python",
   "nbconvert_exporter": "python",
   "pygments_lexer": "ipython3",
   "version": "3.8.1"
  },
  "orig_nbformat": 4
 },
 "nbformat": 4,
 "nbformat_minor": 2
}
