{
 "cells": [
  {
   "cell_type": "markdown",
   "metadata": {},
   "source": [
    "## You are given an array of unique integers salary where salary[i] is the salary of the ith employee.\n",
    "\n",
    "## Return the average salary of employees excluding the minimum and maximum salary. Answers within 10-5 of the actual answer will be accepted.\n",
    "\n",
    " \n",
    "\n",
    "Example 1:\n",
    "\n",
    "Input: salary = [4000,3000,1000,2000]\n",
    "Output: 2500.00000\n",
    "Explanation: Minimum salary and maximum salary are 1000 and 4000 respectively.\n",
    "Average salary excluding minimum and maximum salary is (2000+3000) / 2 = 2500\n",
    "Example 2:\n",
    "\n",
    "Input: salary = [1000,2000,3000]\n",
    "Output: 2000.00000\n",
    "Explanation: Minimum salary and maximum salary are 1000 and 3000 respectively.\n",
    "Average salary excluding minimum and maximum salary is (2000) / 1 = 2000\n",
    " \n",
    "\n",
    "Constraints:\n",
    "\n",
    "3 <= salary.length <= 100\n",
    "1000 <= salary[i] <= 106\n",
    "All the integers of salary are unique."
   ]
  },
  {
   "cell_type": "code",
   "execution_count": null,
   "metadata": {},
   "outputs": [],
   "source": []
  }
 ],
 "metadata": {
  "language_info": {
   "name": "python"
  },
  "orig_nbformat": 4
 },
 "nbformat": 4,
 "nbformat_minor": 2
}
