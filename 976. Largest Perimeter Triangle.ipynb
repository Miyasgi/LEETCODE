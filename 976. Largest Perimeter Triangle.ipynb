{
 "cells": [
  {
   "cell_type": "markdown",
   "metadata": {},
   "source": [
    "Given an integer array nums, return the largest perimeter of a triangle with a non-zero area, formed from three of these lengths. If it is impossible to form any triangle of a non-zero area, return 0.\n",
    "\n",
    " \n",
    "\n",
    "Example 1:\n",
    "\n",
    "Input: nums = [2,1,2]\n",
    "Output: 5\n",
    "\n",
    "\n",
    "\n",
    "\n",
    "Example 2:\n",
    "\n",
    "Input: nums = [1,2,1]\n",
    "Output: 0\n",
    " \n",
    "\n",
    "Constraints:\n",
    "\n",
    "3 <= nums.length <= 10^4\n",
    "1 <= nums[i] <= 10^6"
   ]
  },
  {
   "cell_type": "markdown",
   "metadata": {},
   "source": [
    "自己的想法：求三角形最大的周长，先判断是不是三角形。三角形是任意两边之和大于第三边，任意两边之差小于第三边。"
   ]
  },
  {
   "cell_type": "code",
   "execution_count": 3,
   "metadata": {},
   "outputs": [],
   "source": [
    "#错误算法\n",
    "def largestPerimeter1(nums:list):\n",
    "    if (nums[0]+nums[1]>nums[2]) and (nums[1] +nums[2]>nums[0] )and (nums[0] + nums[2] > nums[1]):\n",
    "        return nums[0] +nums[1] +nums[2]\n",
    "    else:\n",
    "        return 0"
   ]
  },
  {
   "cell_type": "markdown",
   "metadata": {},
   "source": [
    "错误原因是想当然了，题没有读和理解好，这个list不止三位（看最后的限制条件，大于等于3）。超过三位，要在里面找最大的三个数，并可以组成三角形。\n",
    "\n",
    "第二次想题思路：\n",
    "如果是超过三个元素，就要去排序，默认挑选前三个最大的，然后判断是不是三角形，是的话返回和。不是的话要怎么做？？"
   ]
  },
  {
   "cell_type": "code",
   "execution_count": 18,
   "metadata": {},
   "outputs": [],
   "source": [
    "def largestPerimeter(nums:list):\n",
    "    nums.sort()\n",
    "    for i in range(len(nums)-3,-1,-1):\n",
    "        if nums[i] + nums[i+1] >nums[i+2]:\n",
    "            # print(nums)\n",
    "            # print(i)\n",
    "            # print(nums[i])\n",
    "            # print(nums[i+1])\n",
    "            # print(nums[i+2])\n",
    "            return nums[i] + nums[i+1] + nums[i+2]\n",
    "    return 0"
   ]
  },
  {
   "cell_type": "code",
   "execution_count": 22,
   "metadata": {},
   "outputs": [
    {
     "name": "stdout",
     "output_type": "stream",
     "text": [
      "[1, 1, 2, 2, 3, 4, 5, 5, 6]\n",
      "6\n",
      "5\n",
      "5\n",
      "6\n"
     ]
    },
    {
     "data": {
      "text/plain": [
       "16"
      ]
     },
     "execution_count": 22,
     "metadata": {},
     "output_type": "execute_result"
    }
   ],
   "source": [
    "nums=[3,2,6,4,5,1,1,2,5]\n",
    "largestPerimeter(nums)\n"
   ]
  },
  {
   "cell_type": "markdown",
   "metadata": {},
   "source": [
    "Complexity Analysis\n",
    "\n",
    "Time Complexity: O(N \\log N)O(NlogN), where NN is the length of A.\n",
    "\n",
    "Space Complexity: O(1)O(1).\n",
    "\n",
    "正确解题思路和第二次有点接近，1.先排序 2.  去遍历从倒数第三个开始的元素，倒着遍历，减一，一直遍历到最后一位。"
   ]
  }
 ],
 "metadata": {
  "interpreter": {
   "hash": "d92af96a0148a8d5d2a0fe594a313801aeb1b58206d2c150cb513f496f2d1b1d"
  },
  "kernelspec": {
   "display_name": "Python 3.8.1 64-bit",
   "name": "python3"
  },
  "language_info": {
   "codemirror_mode": {
    "name": "ipython",
    "version": 3
   },
   "file_extension": ".py",
   "mimetype": "text/x-python",
   "name": "python",
   "nbconvert_exporter": "python",
   "pygments_lexer": "ipython3",
   "version": "3.8.1"
  },
  "orig_nbformat": 4
 },
 "nbformat": 4,
 "nbformat_minor": 2
}
