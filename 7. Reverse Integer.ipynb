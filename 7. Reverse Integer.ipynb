{
 "cells": [
  {
   "cell_type": "markdown",
   "metadata": {},
   "source": [
    "# Reverse Integer\n",
    "\n",
    "Given a 32-bit signed integer, reverse digits of an integer.\n",
    "\n",
    "Example 1:\n",
    "\n",
    "Input: 123\n",
    "Output:  321\n",
    "Example 2:\n",
    "\n",
    "Input: -123\n",
    "Output: -321\n",
    "Example 3:\n",
    "\n",
    "Input: 120\n",
    "Output: 21\n",
    "Note:\n",
    "Assume we are dealing with an environment which could only hold integers within the 32-bit signed integer range. For the purpose of this problem, assume that your function returns 0 when the reversed integer overflows.\n",
    "\n"
   ]
  },
  {
   "cell_type": "code",
   "execution_count": 28,
   "metadata": {},
   "outputs": [],
   "source": [
    "# The most efficient way to the last digit(position n) of a number is divide by 10, if you want get the n-1 digit, divide 10 again\n",
    "# If it is nagtive number, make sure turn it to positive first, after get the reverse number, turn it into negative\n",
    "\n",
    "def reverse(x):\n",
    "    \n",
    "    # Assign x to n for positive value \n",
    "    n = x if x > 0 else -x\n",
    "    #  余数 remainder\n",
    "    rem = 0\n",
    "    while n:\n",
    "        rem = rem*10 + n % 10\n",
    "    # // function get the floor of integer\n",
    "        n = n // 10\n",
    "    # Python maximum value of 32-bit integer, if rem larger than it, it will oversflow\n",
    "    if rem > 0x7fffffff:\n",
    "        return 0\n",
    "    # Return orgin value\n",
    "    return rem if x > 0 else -rem"
   ]
  },
  {
   "cell_type": "code",
   "execution_count": 29,
   "metadata": {},
   "outputs": [
    {
     "data": {
      "text/plain": [
       "-321"
      ]
     },
     "execution_count": 29,
     "metadata": {},
     "output_type": "execute_result"
    }
   ],
   "source": [
    "reverse(-123)"
   ]
  },
  {
   "cell_type": "code",
   "execution_count": 30,
   "metadata": {},
   "outputs": [],
   "source": [
    "def reverseTest(x):\n",
    "    ans = 0\n",
    "    sign = 1 if x >0 else -1\n",
    "    x = abs(x)\n",
    "    while x > 0:\n",
    "        ans = ans * 10 + x%10\n",
    "        x //= 10\n",
    "    return sign * ans"
   ]
  },
  {
   "cell_type": "code",
   "execution_count": 31,
   "metadata": {},
   "outputs": [
    {
     "data": {
      "text/plain": [
       "321"
      ]
     },
     "execution_count": 31,
     "metadata": {},
     "output_type": "execute_result"
    }
   ],
   "source": [
    "reverseTest(123)"
   ]
  },
  {
   "cell_type": "raw",
   "metadata": {},
   "source": [
    "reverseTest(-123)"
   ]
  },
  {
   "cell_type": "code",
   "execution_count": null,
   "metadata": {},
   "outputs": [],
   "source": []
  }
 ],
 "metadata": {
  "kernelspec": {
   "display_name": "Python 3",
   "language": "python",
   "name": "python3"
  },
  "language_info": {
   "codemirror_mode": {
    "name": "ipython",
    "version": 3
   },
   "file_extension": ".py",
   "mimetype": "text/x-python",
   "name": "python",
   "nbconvert_exporter": "python",
   "pygments_lexer": "ipython3",
   "version": "3.6.4"
  }
 },
 "nbformat": 4,
 "nbformat_minor": 2
}
