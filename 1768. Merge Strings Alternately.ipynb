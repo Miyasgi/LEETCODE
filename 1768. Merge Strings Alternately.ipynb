{
 "cells": [
  {
   "cell_type": "markdown",
   "metadata": {},
   "source": [
    "## Content\n",
    "You are given two strings word1 and word2. Merge the strings by adding letters in alternating order, starting with word1. If a string is longer than the other, append the additional letters onto the end of the merged string.\n",
    "\n",
    "Return the merged string.\n",
    "\n",
    " \n",
    "\n",
    "Example 1:\n",
    "\n",
    "\n",
    "Input: word1 = \"abc\", word2 = \"pqr\"\n",
    "\n",
    "\n",
    "Output: \"apbqcr\"\n",
    "\n",
    "\n",
    "Explanation: The merged string will be merged as so:\n",
    "word1:  a   b   c\n",
    "word2:    p   q   r\n",
    "merged: a p b q c r\n",
    "\n",
    "\n",
    "Example 2:\n",
    "\n",
    "Input: word1 = \"ab\", word2 = \"pqrs\"\n",
    "\n",
    "\n",
    "Output: \"apbqrs\"\n",
    "\n",
    "\n",
    "Explanation: Notice that as word2 is longer, \"rs\" is appended to the end.\n",
    "\n",
    "\n",
    "word1:  a   b \n",
    "word2:    p   q   r   s\n",
    "\n",
    "merged: a p b q   r   s\n",
    "\n",
    "\n",
    "\n",
    "Example 3:\n",
    "\n",
    "Input: word1 = \"abcd\", word2 = \"pq\"\n",
    "\n",
    "Output: \"apbqcd\"\n",
    "\n",
    "\n",
    "Explanation: Notice that as word1 is longer, \"cd\" is appended to the end.\n",
    "word1:  a   b   c   d\n",
    "word2:    p   q \n",
    "merged: a p b q c   d\n",
    " \n",
    "\n",
    "## Constraints:\n",
    "\n",
    "1 <= word1.length, word2.length <= 100\n",
    "\n",
    "word1 and word2 consist of lowercase English letters."
   ]
  },
  {
   "cell_type": "markdown",
   "metadata": {},
   "source": [
    "### 自己想法\n",
    "1. 先读懂题，两个字符串Merge，交互merge。\n",
    "2. 从第一个开始，如果第二个比第一个长，按照短的去merge，第二剩余的放后面，反之第一个的剩余的不变。\n",
    "3. 要对字符串进行遍历，Python可以直接遍历，如何进行交替遍历呢？\n",
    "4. 既然以word1为主，就要以word1遍历，靠的估计是对索引的认识，如何去获取最后几位的索引\n",
    "\n"
   ]
  },
  {
   "cell_type": "code",
   "execution_count": 13,
   "metadata": {},
   "outputs": [],
   "source": [
    "def mergeAlternately(word1, word2):\n",
    "    result=''\n",
    "\n",
    "\n",
    "    for i in range(len(word1)):\n",
    "        result+=str(word1[i])\n",
    "        result+=str(word2[i])\n",
    "    return result\n",
    "        \n",
    "\n",
    "\n"
   ]
  },
  {
   "cell_type": "code",
   "execution_count": 14,
   "metadata": {},
   "outputs": [
    {
     "data": {
      "text/plain": [
       "'bpcq'"
      ]
     },
     "execution_count": 14,
     "metadata": {},
     "output_type": "execute_result"
    }
   ],
   "source": [
    "word1 = \"bc\"\n",
    "word2 = \"pqr\"\n",
    "\n",
    "mergeAlternately(word1=word1,word2=word2)"
   ]
  },
  {
   "cell_type": "markdown",
   "metadata": {},
   "source": [
    "## 正确想法\n",
    "\n",
    "1. 遍历的时候用两个最小的长度\n",
    "2. 最后要加上剩余的，是word1[i+1:] "
   ]
  },
  {
   "cell_type": "code",
   "execution_count": 15,
   "metadata": {},
   "outputs": [],
   "source": [
    "def mergeAlternately(word1, word2):\n",
    "    res = ''\n",
    "\n",
    "    for i in range(min(len(word1),len(word2))):\n",
    "        res += word1[i] + word2[i]\n",
    "\n",
    "    return res + word1[i+1:] + word2[i+1:]"
   ]
  },
  {
   "cell_type": "code",
   "execution_count": 18,
   "metadata": {},
   "outputs": [
    {
     "data": {
      "text/plain": [
       "'apbqc'"
      ]
     },
     "execution_count": 18,
     "metadata": {},
     "output_type": "execute_result"
    }
   ],
   "source": [
    "word1 = \"abc\"\n",
    "word2 = \"pq\"\n",
    "\n",
    "mergeAlternately(word1=word1,word2=word2)"
   ]
  }
 ],
 "metadata": {
  "interpreter": {
   "hash": "d92af96a0148a8d5d2a0fe594a313801aeb1b58206d2c150cb513f496f2d1b1d"
  },
  "kernelspec": {
   "display_name": "Python 3.8.1 64-bit",
   "language": "python",
   "name": "python3"
  },
  "language_info": {
   "codemirror_mode": {
    "name": "ipython",
    "version": 3
   },
   "file_extension": ".py",
   "mimetype": "text/x-python",
   "name": "python",
   "nbconvert_exporter": "python",
   "pygments_lexer": "ipython3",
   "version": "3.8.1"
  },
  "orig_nbformat": 4
 },
 "nbformat": 4,
 "nbformat_minor": 2
}
