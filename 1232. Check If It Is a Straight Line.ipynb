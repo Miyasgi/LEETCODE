{
 "cells": [
  {
   "cell_type": "markdown",
   "metadata": {},
   "source": [
    "## Content\n",
    "\n",
    "You are given an array coordinates, coordinates[i] = [x, y], where [x, y] represents the coordinate of a point. Check if these points make a straight line in the XY plane.\n",
    "\n",
    " \n",
    "\n",
    " \n",
    "\n",
    "Example 1:\n",
    "\n",
    "<img src=\"pics/1232eg1.jpg\">\n",
    "\n",
    "Input: coordinates = [[1,2],[2,3],[3,4],[4,5],[5,6],[6,7]]\n",
    "\n",
    "Output: true  \n",
    "\n",
    "\n",
    "\n",
    "Example 2:\n",
    "\n",
    "<img src=\"pics/1232eg2.jpg\">\n",
    "\n",
    "\n",
    "Input: coordinates = [[1,1],[2,2],[3,4],[4,5],[5,6],[7,7]]\n",
    "\n",
    "Output: false\n",
    "\n",
    "\n",
    "## Constraints:\n",
    "\n",
    "2 <= coordinates.length <= 1000\n",
    "\n",
    "coordinates[i].length == 2\n",
    "\n",
    "-10^4 <= coordinates[i][0], coordinates[i][1] <= 10^4\n",
    "\n",
    "coordinates contains no duplicate point."
   ]
  },
  {
   "cell_type": "markdown",
   "metadata": {},
   "source": [
    "自己思路：\n",
    "\n",
    "感觉是考数学，虽然题目本身分类是靠function。要满足一元一次方程的条件才能满足直线也就是 y = ax + b\n",
    "a不能等于0。输入的是数组，里面又包含N个数组。一个个去遍历里面的数组，拿到x和y的值。任意两点的绝对值的除数应该等于一个值，称之为斜率"
   ]
  },
  {
   "cell_type": "code",
   "execution_count": 9,
   "metadata": {},
   "outputs": [],
   "source": [
    "def checkStraightLine(coordinates):\n",
    "    slope=0\n",
    "    for i in range(1,len(coordinates)-1):\n",
    "        slope=calSlope(coordinates[i][0],coordinates[i][1],coordinates[0][0],coordinates[0][1])\n",
    "        if calSlope(coordinates[i+1][0],coordinates[i+1][1],coordinates[0][0],coordinates[0][1]) != slope:\n",
    "            return False\n",
    "            break\n",
    "        \n",
    "        \n",
    "    return True\n",
    "\n",
    "\n",
    "def calSlope(x1,y1, x2,y2):\n",
    "    return abs(y1-y2)/abs(x1-x2)"
   ]
  },
  {
   "cell_type": "code",
   "execution_count": 11,
   "metadata": {},
   "outputs": [
    {
     "data": {
      "text/plain": [
       "True"
      ]
     },
     "execution_count": 11,
     "metadata": {},
     "output_type": "execute_result"
    }
   ],
   "source": [
    "coordinates1 = [[1,2],[2,3],[3,4],[4,5],[5,6],[6,7]]\n",
    "coordinates2 = [[1,2],[2,3]]\n",
    "\n",
    "#checkStraightLine(coordinates1)\n",
    "checkStraightLine(coordinates2)"
   ]
  },
  {
   "cell_type": "markdown",
   "metadata": {},
   "source": [
    "只通过了俩，也就是例子里的。逻辑有问题，方向是对的，但是漏了检查除数不能为0的情况。\n",
    "\n",
    "对三个点来讲，要保证斜率相同(x0,y0),(x1,y1),(x,y)\n",
    "\n",
    "(y-y1)/(x-x1) = (y1-y0)/(x1-x0)\n",
    "\n",
    "为了避免除0，要交叉相乘， 变成 (y-y1)*(x1-x0)=(x-x1)*(y1-y0)\n"
   ]
  },
  {
   "cell_type": "code",
   "execution_count": 12,
   "metadata": {},
   "outputs": [],
   "source": [
    "def checkStraightLine(coordinates):\n",
    "    (x0,y0), (x1,y1) = coordinates[:2]\n",
    "\n",
    "    for x,y in coordinates:\n",
    "        if (y-y1) * (x1-x0)!= (x-x1)*(y1-y0):\n",
    "            return False\n",
    "    return True"
   ]
  },
  {
   "cell_type": "markdown",
   "metadata": {},
   "source": [
    "Success\n",
    "Details \n",
    "Runtime: 97 ms, faster than 34.74% of Python3 online submissions for Check If It Is a Straight Line.\n",
    "Memory Usage: 14.4 MB, less than 30.70% of Python3 online submissions for Check If It Is a Straight Line."
   ]
  }
 ],
 "metadata": {
  "interpreter": {
   "hash": "d92af96a0148a8d5d2a0fe594a313801aeb1b58206d2c150cb513f496f2d1b1d"
  },
  "kernelspec": {
   "display_name": "Python 3.8.1 64-bit",
   "language": "python",
   "name": "python3"
  },
  "language_info": {
   "codemirror_mode": {
    "name": "ipython",
    "version": 3
   },
   "file_extension": ".py",
   "mimetype": "text/x-python",
   "name": "python",
   "nbconvert_exporter": "python",
   "pygments_lexer": "ipython3",
   "version": "3.8.1"
  },
  "orig_nbformat": 4
 },
 "nbformat": 4,
 "nbformat_minor": 2
}
