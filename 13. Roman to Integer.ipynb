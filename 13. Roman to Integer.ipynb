{
 "cells": [
  {
   "cell_type": "markdown",
   "metadata": {},
   "source": [
    "# Roman to Integer\n",
    "Given a roman numeral, convert it to an integer.\n",
    "\n",
    "Input is guaranteed to be within the range from 1 to 3999."
   ]
  },
  {
   "cell_type": "code",
   "execution_count": 25,
   "metadata": {},
   "outputs": [],
   "source": [
    "def romanToInt(s):\n",
    "    # Create a dictionay to store all Roman to Integer \n",
    "    numerals = {\"M\":1000, \"D\":500,\"C\":100,\"L\":50,\"X\":10,\"V\":5,\"I\":1}\n",
    "    sum = 0\n",
    "    # Using python slice feature [::-1]to get the reverse order of the Roman\n",
    "    \n",
    "    s = s[::-1]\n",
    "    last = None\n",
    "    # check the digit in Roman sting one by one\n",
    "    for x in s:\n",
    "        if last and numerals[x]<last:\n",
    "            print(x)\n",
    "            print(last)\n",
    "        # When there is MC or MX\n",
    "            sum -= 2*numerals[x]\n",
    "            print(sum)\n",
    "        sum += numerals[x]\n",
    "        print(sum)\n",
    "        last = numerals[x]\n",
    "        #print(last)\n",
    "    return sum\n",
    "    "
   ]
  },
  {
   "cell_type": "code",
   "execution_count": 26,
   "metadata": {},
   "outputs": [
    {
     "name": "stdout",
     "output_type": "stream",
     "text": [
      "1\n",
      "2\n",
      "12\n",
      "112\n",
      "612\n",
      "1612\n"
     ]
    },
    {
     "data": {
      "text/plain": [
       "1612"
      ]
     },
     "execution_count": 26,
     "metadata": {},
     "output_type": "execute_result"
    }
   ],
   "source": [
    "romanToInt('MDCXII')"
   ]
  },
  {
   "cell_type": "code",
   "execution_count": 27,
   "metadata": {},
   "outputs": [
    {
     "name": "stdout",
     "output_type": "stream",
     "text": [
      "1\n",
      "2\n",
      "12\n",
      "112\n",
      "1112\n",
      "C\n",
      "1000\n",
      "912\n",
      "1012\n",
      "2012\n"
     ]
    },
    {
     "data": {
      "text/plain": [
       "2012"
      ]
     },
     "execution_count": 27,
     "metadata": {},
     "output_type": "execute_result"
    }
   ],
   "source": [
    "romanToInt('MCMCXII')"
   ]
  },
  {
   "cell_type": "code",
   "execution_count": 28,
   "metadata": {},
   "outputs": [
    {
     "name": "stdout",
     "output_type": "stream",
     "text": [
      "100\n",
      "200\n",
      "1200\n",
      "2200\n",
      "3200\n"
     ]
    },
    {
     "data": {
      "text/plain": [
       "3200"
      ]
     },
     "execution_count": 28,
     "metadata": {},
     "output_type": "execute_result"
    }
   ],
   "source": [
    "romanToInt('MMMCC')"
   ]
  },
  {
   "cell_type": "code",
   "execution_count": 29,
   "metadata": {},
   "outputs": [
    {
     "name": "stdout",
     "output_type": "stream",
     "text": [
      "1\n",
      "6\n",
      "106\n",
      "X\n",
      "100\n",
      "86\n",
      "96\n",
      "1096\n",
      "C\n",
      "1000\n",
      "896\n",
      "996\n",
      "1996\n"
     ]
    },
    {
     "data": {
      "text/plain": [
       "1996"
      ]
     },
     "execution_count": 29,
     "metadata": {},
     "output_type": "execute_result"
    }
   ],
   "source": [
    "romanToInt(\"MCMXCVI\")"
   ]
  },
  {
   "cell_type": "code",
   "execution_count": null,
   "metadata": {},
   "outputs": [],
   "source": []
  }
 ],
 "metadata": {
  "kernelspec": {
   "display_name": "Python 3",
   "language": "python",
   "name": "python3"
  },
  "language_info": {
   "codemirror_mode": {
    "name": "ipython",
    "version": 3
   },
   "file_extension": ".py",
   "mimetype": "text/x-python",
   "name": "python",
   "nbconvert_exporter": "python",
   "pygments_lexer": "ipython3",
   "version": "3.6.4"
  }
 },
 "nbformat": 4,
 "nbformat_minor": 2
}
