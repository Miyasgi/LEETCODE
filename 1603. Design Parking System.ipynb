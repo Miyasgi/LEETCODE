{
 "cells": [
  {
   "cell_type": "markdown",
   "metadata": {},
   "source": [
    "Design a parking system for a parking lot. The parking lot has three kinds of parking spaces: big, medium, and small, with a fixed number of slots for each size.\n",
    "\n",
    "Implement the ParkingSystem class:\n",
    "\n",
    "ParkingSystem(int big, int medium, int small) Initializes object of the ParkingSystem class. The number of slots for each parking space are given as part of the constructor.\n",
    "bool addCar(int carType) Checks whether there is a parking space of carType for the car that wants to get into the parking lot. carType can be of three kinds: big, medium, or small, which are represented by 1, 2, and 3 respectively. A car can only park in a parking space of its carType. If there is no space available, return false, else park the car in that size space and return true.\n",
    " \n",
    "\n",
    "\n",
    "Example 1:\n",
    "\n",
    "\n",
    "\n",
    "Input\n",
    "[\"ParkingSystem\", \"addCar\", \"addCar\", \"addCar\", \"addCar\"]\n",
    "[[1, 1, 0], [1], [2], [3], [1]]\n",
    "Output\n",
    "[null, true, true, false, false]\n",
    "\n",
    "Explanation\n",
    "ParkingSystem parkingSystem = new ParkingSystem(1, 1, 0);\n",
    "parkingSystem.addCar(1); // return true because there is 1 available slot for a big car\n",
    "parkingSystem.addCar(2); // return true because there is 1 available slot for a medium car\n",
    "parkingSystem.addCar(3); // return false because there is no available slot for a small car\n",
    "parkingSystem.addCar(1); // return false because there is no available slot for a big car. It is already occupied.\n",
    " \n",
    "\n",
    "Constraints:\n",
    "\n",
    "0 <= big, medium, small <= 1000\n",
    "carType is 1, 2, or 3\n",
    "At most 1000 calls will be made to addCar"
   ]
  },
  {
   "cell_type": "markdown",
   "metadata": {},
   "source": [
    "## 自己想法\n",
    "1. 题目归类写的考的是类和object\n",
    "2. 要自学一下这个概念"
   ]
  },
  {
   "cell_type": "code",
   "execution_count": 1,
   "metadata": {},
   "outputs": [],
   "source": [
    "class ParkingSystem:\n",
    "    #这个是解题的精华\n",
    "    __slots__ = ['_parking']\n",
    "\n",
    "    def __init__(self, big:int, medium: int, small: int):\n",
    "        self._parking = {\n",
    "            1: big,\n",
    "            2: medium,\n",
    "            3: small\n",
    "        } \n",
    "    def addCar(self, carType: int):\n",
    "        available_spots = self._parking[carType]\n",
    "        if available_spots:\n",
    "            self._parking[carType] = available_spots - 1\n",
    "            return True"
   ]
  },
  {
   "cell_type": "markdown",
   "metadata": {},
   "source": [
    "Success\n",
    "Details \n",
    "Runtime: 129 ms, faster than 98.82% of Python3 online submissions for Design Parking System.\n",
    "Memory Usage: 14.5 MB, less than 13.64% of Python3 online submissions for Design Parking System.\n",
    "Next challenges:"
   ]
  },
  {
   "cell_type": "markdown",
   "metadata": {},
   "source": [
    "Slots in Python is a special mechanism that is used to reduce memory of the objects. In Python, all the objects use a dynamic dictionary for adding an attribute. Slots is a static type method in this no dynamic dictionary are required for allocating attribute.\n",
    "\n",
    "# Syntax\n",
    "\n",
    "class myClass(object):\n",
    "\n",
    "    # defining the slots\n",
    "    __slots__ = (par1, par2) \n",
    "\n",
    "     def __init__(self, *args, **kwargs):\n",
    "\n",
    "         # initializing the values\n",
    "         self.par1 = value1\n",
    "         self.par2 = value2"
   ]
  },
  {
   "cell_type": "code",
   "execution_count": null,
   "metadata": {},
   "outputs": [],
   "source": [
    "\n",
    "\n",
    "\n",
    "#Example 1:\n",
    "\n",
    "\n",
    "# defining the class.\n",
    "class gfg:\n",
    "      \n",
    "    # defining the slots.\n",
    "    __slots__ =('course', 'price')\n",
    "      \n",
    "    def __init__(self):\n",
    "          \n",
    "        # initializing the values\n",
    "        self.course ='DSA Self Paced'\n",
    "        self.price = 3999\n",
    "  \n",
    "# create an object of gfg class\n",
    "a = gfg()\n",
    "  \n",
    "# print the slot\n",
    "print(a.__slots__)\n",
    "  \n",
    "# print the slot variable\n",
    "print(a.course, a.price)\n",
    "\n",
    "#Output\n",
    "\n",
    "#('course', 'price')\n",
    "#DSA Self Paced 3999"
   ]
  }
 ],
 "metadata": {
  "interpreter": {
   "hash": "663dd40e2de813c0b0f595ebf54710d20b316650882efb44b9ca3a968cc17f71"
  },
  "kernelspec": {
   "display_name": "Python 3.8.1 64-bit",
   "language": "python",
   "name": "python3"
  },
  "language_info": {
   "codemirror_mode": {
    "name": "ipython",
    "version": 3
   },
   "file_extension": ".py",
   "mimetype": "text/x-python",
   "name": "python",
   "nbconvert_exporter": "python",
   "pygments_lexer": "ipython3",
   "version": "3.8.1"
  },
  "orig_nbformat": 4
 },
 "nbformat": 4,
 "nbformat_minor": 2
}
