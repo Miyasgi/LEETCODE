{
 "cells": [
  {
   "cell_type": "markdown",
   "metadata": {},
   "source": [
    "## Content\n",
    "\n",
    "Given a square matrix mat, return the sum of the matrix diagonals.\n",
    "\n",
    "Only include the sum of all the elements on the primary diagonal and all the elements on the secondary diagonal that are not part of the primary diagonal.\n",
    "\n",
    " \n",
    "\n",
    "\n",
    "\n",
    "Example 1:\n",
    "\n",
    "\n",
    "<img src=\"pics/1572.png\">\n",
    "\n",
    "\n",
    "\n",
    "Input: mat = [[1,2,3],\n",
    "\n",
    "              [4,5,6],\n",
    "\n",
    "              [7,8,9]]\n",
    "\n",
    "\n",
    "Output: 25\n",
    "Explanation: Diagonals sum: 1 + 5 + 9 + 3 + 7 = 25\n",
    "Notice that element mat[1][1] = 5 is counted only once.\n",
    "\n",
    "\n",
    "\n",
    "\n",
    "Example 2:\n",
    "\n",
    "Input: mat = [[1,1,1,1],\n",
    "\n",
    "              [1,1,1,1],\n",
    "\n",
    "              [1,1,1,1],\n",
    "\n",
    "              [1,1,1,1]]\n",
    "\n",
    "              \n",
    "Output: 8\n",
    "\n",
    "\n",
    "\n",
    "\n",
    "Example 3:\n",
    "\n",
    "Input: mat = [[5]]\n",
    "Output: 5\n",
    " \n",
    "\n",
    "## Constraints:\n",
    "\n",
    "n == mat.length == mat[i].length\n",
    "1 <= n <= 100\n",
    "1 <= mat[i][j] <= 100"
   ]
  },
  {
   "cell_type": "markdown",
   "metadata": {},
   "source": [
    "### 自己思路\n",
    "1. 题目也很直接，方形矩阵，求对角线值的和。1个也是方形矩阵\n",
    "2. 要注意，如果是奇数的，中间那个只算一次\n",
    "3. 对矩阵进行遍历，是否要用两个变量i和j。每次加一，复杂度不会算\n",
    "4. 昨天做的那道题可以直接一个变量遍历，并用sum，今天这个考到单一元素的遍历，range不好用，得用其他功能。\n",
    "5. 使用嵌套循环"
   ]
  },
  {
   "cell_type": "code",
   "execution_count": null,
   "metadata": {},
   "outputs": [],
   "source": [
    "# def diagnoalSum(mat):\n",
    "#     total = 0\n",
    "#     for i in range(len(mat)):\n",
    "#         for j in range(len(i)):\n"
   ]
  },
  {
   "cell_type": "markdown",
   "metadata": {},
   "source": [
    "思路从第三个起就错了，就只需要看两条对角线，只需要遍历一次。\n",
    "\n",
    "1. 要注意遍历的时候用n，因为已经定义n= len(mat)\n",
    "2. 判断是奇数可以是n%2!=0 或者n%2 ==1"
   ]
  },
  {
   "cell_type": "code",
   "execution_count": 1,
   "metadata": {},
   "outputs": [],
   "source": [
    "def diagnoalSum(mat):\n",
    "    n = len(mat)\n",
    "\n",
    "    mid = n // 2\n",
    "\n",
    "    sum_total = 0\n",
    "\n",
    "    for i in range(n):\n",
    "        sum_total  += mat[i][i]\n",
    "\n",
    "        sum_total += mat[n-1-i][i]\n",
    "\n",
    "    if n % 2 == 1:\n",
    "\n",
    "        sum_total -= mat[mid][mid]\n",
    "    \n",
    "    return sum_total\n",
    "\n"
   ]
  },
  {
   "cell_type": "code",
   "execution_count": 2,
   "metadata": {},
   "outputs": [
    {
     "data": {
      "text/plain": [
       "8"
      ]
     },
     "execution_count": 2,
     "metadata": {},
     "output_type": "execute_result"
    }
   ],
   "source": [
    "mat = [[1,1,1,1],\n",
    "              [1,1,1,1],\n",
    "              [1,1,1,1],\n",
    "              [1,1,1,1]]\n",
    "\n",
    "diagnoalSum(mat)"
   ]
  },
  {
   "cell_type": "markdown",
   "metadata": {},
   "source": []
  }
 ],
 "metadata": {
  "interpreter": {
   "hash": "d92af96a0148a8d5d2a0fe594a313801aeb1b58206d2c150cb513f496f2d1b1d"
  },
  "kernelspec": {
   "display_name": "Python 3.8.1 64-bit",
   "language": "python",
   "name": "python3"
  },
  "language_info": {
   "codemirror_mode": {
    "name": "ipython",
    "version": 3
   },
   "file_extension": ".py",
   "mimetype": "text/x-python",
   "name": "python",
   "nbconvert_exporter": "python",
   "pygments_lexer": "ipython3",
   "version": "3.8.1"
  },
  "orig_nbformat": 4
 },
 "nbformat": 4,
 "nbformat_minor": 2
}
