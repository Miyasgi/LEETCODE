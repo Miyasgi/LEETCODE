{
 "cells": [
  {
   "cell_type": "markdown",
   "metadata": {},
   "source": [
    "## Content\n",
    "A sequence of numbers is called an arithmetic progression if the difference between any two consecutive elements is the same.\n",
    "\n",
    "Given an array of numbers arr, return true if the array can be rearranged to form an arithmetic progression. Otherwise, return false.\n",
    "\n",
    " \n",
    "\n",
    "Example 1:\n",
    "\n",
    "Input: arr = [3,5,1]\n",
    "Output: true\n",
    "Explanation: We can reorder the elements as [1,3,5] or [5,3,1] with differences 2 and -2 respectively, between each consecutive elements.\n",
    "Example 2:\n",
    "\n",
    "Input: arr = [1,2,4]\n",
    "Output: false\n",
    "Explanation: There is no way to reorder the elements to obtain an arithmetic progression.\n",
    " \n",
    "\n",
    "## Constraints:\n",
    "\n",
    "2 <= arr.length <= 1000\n",
    "\n",
    "-10^6 <= arr[i] <= 10^6"
   ]
  },
  {
   "cell_type": "markdown",
   "metadata": {},
   "source": [
    "自己思路：\n",
    "1.首先排序\n",
    "2.然后从第二个减一个得一个数\n",
    "3.循环往后走，如果出现某个减完的结果不等于第一个数，返回false。循环到最后一个，都相等，就返回true"
   ]
  },
  {
   "cell_type": "code",
   "execution_count": 5,
   "metadata": {},
   "outputs": [],
   "source": [
    "def canMakeArithmeticProgression(arr):\n",
    "    arr.sort()\n",
    "    for i in range(1,len(arr)-1):\n",
    "        diff=arr[i]-arr[0]\n",
    "        if arr[i+1]-arr[i]!=diff:\n",
    "            ans = False\n",
    "        else:\n",
    "            diff = arr[i+1]-arr[i]\n",
    "            ans=True\n",
    "    return ans\n"
   ]
  },
  {
   "cell_type": "code",
   "execution_count": 7,
   "metadata": {},
   "outputs": [
    {
     "data": {
      "text/plain": [
       "False"
      ]
     },
     "execution_count": 7,
     "metadata": {},
     "output_type": "execute_result"
    }
   ],
   "source": [
    "#arr = [3,5,1]\n",
    "arr = [1,2,4]\n",
    "canMakeArithmeticProgression(arr)"
   ]
  },
  {
   "cell_type": "markdown",
   "metadata": {},
   "source": [
    "上面是错误答案，逻辑不对，下面是正确答案，两种不同的sort function,好像各有不同"
   ]
  },
  {
   "cell_type": "code",
   "execution_count": 10,
   "metadata": {},
   "outputs": [],
   "source": [
    "def canMakeArithmeticProgression(arr):\n",
    "    #arr.sort()\n",
    "    arr=sorted(arr)\n",
    "    diff = arr[0] - arr[1]\n",
    "    for i in range(2,len(arr)):\n",
    "        if diff != arr[i-1] -arr[i]:\n",
    "            return False\n",
    "    return True\n",
    "\n"
   ]
  },
  {
   "cell_type": "code",
   "execution_count": 11,
   "metadata": {},
   "outputs": [
    {
     "data": {
      "text/plain": [
       "False"
      ]
     },
     "execution_count": 11,
     "metadata": {},
     "output_type": "execute_result"
    }
   ],
   "source": [
    "arr = [1,2,4]\n",
    "canMakeArithmeticProgression(arr)"
   ]
  },
  {
   "cell_type": "markdown",
   "metadata": {},
   "source": [
    "Runtime: 47 ms, faster than 72.87% of Python3 online submissions for Can Make Arithmetic Progression From Sequence.\n",
    "Memory Usage: 13.9 MB, less than 96.92% of Python3 online submissions for Can Make Arithmetic Progression From Sequence."
   ]
  },
  {
   "cell_type": "markdown",
   "metadata": {},
   "source": [
    "Runtime: 39 ms, faster than 93.79% of Python3 online submissions for Can Make Arithmetic Progression From Sequence.\n",
    "Memory Usage: 13.9 MB, less than 69.05% of Python3 online submissions for Can Make Arithmetic Progression From Sequence.\n",
    "Next challenges:"
   ]
  }
 ],
 "metadata": {
  "interpreter": {
   "hash": "d92af96a0148a8d5d2a0fe594a313801aeb1b58206d2c150cb513f496f2d1b1d"
  },
  "kernelspec": {
   "display_name": "Python 3.8.1 64-bit",
   "language": "python",
   "name": "python3"
  },
  "language_info": {
   "codemirror_mode": {
    "name": "ipython",
    "version": 3
   },
   "file_extension": ".py",
   "mimetype": "text/x-python",
   "name": "python",
   "nbconvert_exporter": "python",
   "pygments_lexer": "ipython3",
   "version": "3.8.1"
  },
  "orig_nbformat": 4
 },
 "nbformat": 4,
 "nbformat_minor": 2
}
