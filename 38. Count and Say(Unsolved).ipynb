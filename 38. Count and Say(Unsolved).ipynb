{
 "cells": [
  {
   "cell_type": "markdown",
   "metadata": {},
   "source": [
    "## Count and Say\n",
    "The count-and-say sequence is the sequence of integers with the first five terms as following:\n",
    "\n",
    "1.     1 \n",
    "2.     11 \n",
    "3.     21 \n",
    "4.     1211 \n",
    "5.     111221\n",
    "\n",
    "1 is read off as \"one 1\" or 11.\n",
    "\n",
    "11 is read off as \"two 1s\" or 21.\n",
    "\n",
    "21 is read off as \"one 2, then one 1\" or 1211.\n",
    "\n",
    "Given an integer n, generate the nth term of the count-and-say sequence.\n",
    "\n",
    "Note: Each term of the sequence of integers will be represented as a string.\n",
    "\n",
    "Example 1:\n",
    "\n",
    "Input: 1\n",
    "Output: \"1\"\n",
    "Example 2:\n",
    "\n",
    "Input: 4\n",
    "Output: \"1211\""
   ]
  },
  {
   "cell_type": "markdown",
   "metadata": {},
   "source": [
    "###  soluntion tip\n",
    "Proof by exhaustion and contrapositive:\n",
    "\n",
    "In order for a number greater than 4 to be created, there must be a series of numbers n>4 in length all the same digit. Therefore, there is a subset of that series where the count would only reach 4. Because of this, any proof for the existence of a chain resulting in a number greater than 4 is also a proof for the existence of a 4-chain. Using the proof by contrapositive, this means that if 4-chains are proved to be impossible, then any n-chain with n>4 is also impossible.\n",
    "\n",
    "In order to start with a chain with numbers greater than 4, you must assume that a 4-chain is possible in the first place, which is circular reasoning, and so cannot be used as an initial point. It is further impossible to have a negative value, since the counting numbers do not include them.\n",
    "\n",
    "Therefore, the only chains able to create a 4 (at least the first one) are 0000, 1111, 2222, or 3333.\n",
    "\n",
    "0 0 0 0 -> 40 \n",
    "The 0000 is read zero 0, zero 0, which must come from . Since there is nothing present, it could in theory occur anywhere in the string. However, since they would be next to each other, if the 0 is repeated as would be neccessary, the zeros would add together, resulting in just zero 0, leaving only 20, not 40.\n",
    "\n",
    "1 1 1 1 -> 41 \n",
    "The 1111 is read one 1, one 1 (or 11), which translates to 21, not 1111. This contradicts the assumption that there is a way to get 1111, and so prevents 4 or greater from appearing. Therefore, 1s cannot reach 4.\n",
    "\n",
    "2 2 2 2 -> 42 \n",
    "The 2222 is read two 2, two 2 (or 22 22), which is identical to the output. Since the input maps to itself, there is no way to leave that cycle, or it already would have. If 2222 exists in the input, then 2222 must have mapped to it. It cannot reach 42. Therefore, 2s cannot reach 4.\n",
    "\n",
    "3 3 3 3 -> 43 \n",
    "The 3333 is read three 3, three 3 (or 333 333). This in turn would require 333 333 333. This fails in two respects. First, that the previous inputs would not merge to 63 or 93. The second, that the sequence eventually traces back to the origin, 1. Since it keeps increasing in length as the number of rounds since the start decreases, it cannot have started at 1. Therefore, 3s cannot reach 4.\n",
    "\n",
    "As every possible case has been examined, and none can reach a 4 while starting at the given beginning (1), it is not possible for a 4-chain to occur, meaning a 4 cannot appear in any valid string for this problem. Further, as stated above, since a 4-chain is impossible, so too are all n-chains with n>4, so no number greater than 4 can appear either."
   ]
  },
  {
   "cell_type": "code",
   "execution_count": 1,
   "metadata": {},
   "outputs": [],
   "source": [
    "def CountAndSay(n):\n",
    "    res = '1'\n",
    "    for i in range(n-1):\n",
    "        new_res = ''\n",
    "        j = 0\n",
    "        while j < len(res):\n",
    "            count = 1\n",
    "            while j < len(res)-1 and res[j] == res[j+1]:\n",
    "                j = j + 1\n",
    "                count = count + 1\n",
    "            j = j + 1\n",
    "            new_res = new_res + str(count) + res[j-1]\n",
    "        res = new_res\n",
    "    return res"
   ]
  },
  {
   "cell_type": "code",
   "execution_count": 4,
   "metadata": {},
   "outputs": [
    {
     "data": {
      "text/plain": [
       "'31131211131221'"
      ]
     },
     "execution_count": 4,
     "metadata": {},
     "output_type": "execute_result"
    }
   ],
   "source": [
    "CountAndSay(9)"
   ]
  },
  {
   "cell_type": "code",
   "execution_count": null,
   "metadata": {},
   "outputs": [],
   "source": []
  }
 ],
 "metadata": {
  "kernelspec": {
   "display_name": "Python 3",
   "language": "python",
   "name": "python3"
  },
  "language_info": {
   "codemirror_mode": {
    "name": "ipython",
    "version": 3
   },
   "file_extension": ".py",
   "mimetype": "text/x-python",
   "name": "python",
   "nbconvert_exporter": "python",
   "pygments_lexer": "ipython3",
   "version": "3.6.4"
  }
 },
 "nbformat": 4,
 "nbformat_minor": 2
}
