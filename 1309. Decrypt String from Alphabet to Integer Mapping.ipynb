{
 "cells": [
  {
   "cell_type": "markdown",
   "metadata": {},
   "source": [
    "## Content\n",
    "You are given a string s formed by digits and '#'. We want to map s to English lowercase characters as follows:\n",
    "\n",
    "Characters ('a' to 'i') are represented by ('1' to '9') respectively.\n",
    "Characters ('j' to 'z') are represented by ('10#' to '26#') respectively.\n",
    "Return the string formed after mapping.\n",
    "\n",
    "The test cases are generated so that a unique mapping will always exist.\n",
    "\n",
    " \n",
    "\n",
    "Example 1:\n",
    "\n",
    "Input: s = \"10#11#12\"\n",
    "Output: \"jkab\"\n",
    "Explanation: \"j\" -> \"10#\" , \"k\" -> \"11#\" , \"a\" -> \"1\" , \"b\" -> \"2\".\n",
    "Example 2:\n",
    "\n",
    "Input: s = \"1326#\"\n",
    "Output: \"acz\"\n",
    " \n",
    "\n",
    "## Constraints:\n",
    "\n",
    "1 <= s.length <= 1000\n",
    "s consists of digits and the '#' letter.\n",
    "s will be a valid string such that mapping is always possible."
   ]
  },
  {
   "cell_type": "markdown",
   "metadata": {},
   "source": [
    "## 自己想法\n",
    "1. 创建一个密码本字典，里面分别包含a-z的对应1,2...9,10#...26#.\n",
    "2. 然后直接根据密码本返回原始string"
   ]
  },
  {
   "cell_type": "code",
   "execution_count": 3,
   "metadata": {},
   "outputs": [],
   "source": [
    "def freqAlphabets(s):\n",
    "\n",
    "    dic = {'1':'a','2':'b','3':'c','4':'d','5':'e','6':'f','7':'g','8':'h','9':'i','10':'j','11':'k','12':'l','13':'m','14':'n','15':'o','16':'p','17':'q','18':'r','19':'s','20':'t','21':'u','22':'v','23':'w','24':'x','25':'y','26':'z'}\n",
    "\n",
    "    len_s, i, ans = len(s), 0, ''\n",
    "    while i < len_s:\n",
    "        if i+2 < len_s and s[i+2] == '#':\n",
    "            ans += dic[s[i:i+2]]\n",
    "            i += 3\n",
    "        else: \n",
    "            ans += dic[s[i]]\n",
    "            i += 1\n",
    "    return ans"
   ]
  },
  {
   "cell_type": "code",
   "execution_count": null,
   "metadata": {},
   "outputs": [],
   "source": [
    "def freqAlphabets(s):\n",
    "    ans = \"\"\n",
    "    i = len(s)-1\n",
    "    while i>=0:\n",
    "        if s[i]==\"#\":\n",
    "            ans = ans + chr(int(s[i-2:i])+96)\n",
    "            i = i-2\n",
    "        else:\n",
    "            ans = ans + chr(int(s[i])+96)\n",
    "        i -=1\n",
    "    return ans[::-1]"
   ]
  }
 ],
 "metadata": {
  "interpreter": {
   "hash": "d92af96a0148a8d5d2a0fe594a313801aeb1b58206d2c150cb513f496f2d1b1d"
  },
  "kernelspec": {
   "display_name": "Python 3.8.1 64-bit",
   "language": "python",
   "name": "python3"
  },
  "language_info": {
   "codemirror_mode": {
    "name": "ipython",
    "version": 3
   },
   "file_extension": ".py",
   "mimetype": "text/x-python",
   "name": "python",
   "nbconvert_exporter": "python",
   "pygments_lexer": "ipython3",
   "version": "3.8.1"
  },
  "orig_nbformat": 4
 },
 "nbformat": 4,
 "nbformat_minor": 2
}
