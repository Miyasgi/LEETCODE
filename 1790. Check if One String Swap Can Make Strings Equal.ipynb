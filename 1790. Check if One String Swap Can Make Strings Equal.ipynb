{
 "cells": [
  {
   "cell_type": "markdown",
   "metadata": {},
   "source": [
    "\n",
    "## Content\n",
    "You are given two strings s1 and s2 of equal length. A string swap is an operation where you choose two indices in a string (not necessarily different) and swap the characters at these indices.\n",
    "\n",
    "Return true if it is possible to make both strings equal by performing at most one string swap on exactly one of the strings. Otherwise, return false.\n",
    "\n",
    " \n",
    "\n",
    "Example 1:\n",
    "\n",
    "Input: s1 = \"bank\", s2 = \"kanb\"\n",
    "Output: true\n",
    "Explanation: For example, swap the first character with the last character of s2 to make \"bank\".\n",
    "Example 2:\n",
    "\n",
    "Input: s1 = \"attack\", s2 = \"defend\"\n",
    "Output: false\n",
    "Explanation: It is impossible to make them equal with one string swap.\n",
    "Example 3:\n",
    "\n",
    "Input: s1 = \"kelb\", s2 = \"kelb\"\n",
    "Output: true\n",
    "Explanation: The two strings are already equal, so no string swap operation is required.\n",
    " \n",
    "\n",
    "### Constraints:\n",
    "\n",
    "1 <= s1.length, s2.length <= 100\n",
    "s1.length == s2.length\n",
    "s1 and s2 consist of only lowercase English letters."
   ]
  },
  {
   "cell_type": "markdown",
   "metadata": {},
   "source": [
    "自己思路： 完全没有思路，这道题考的是loop循环，如果照着题型去思考的话，应该是要去遍历，如果使用同一个indices,就是要保证，0=len(s),1=len(s)-1\n",
    "\n"
   ]
  },
  {
   "cell_type": "code",
   "execution_count": 10,
   "metadata": {},
   "outputs": [],
   "source": [
    "def areAlmostEqual(s1: str, s2: str):\n",
    "    for i in range(len(s1)):\n",
    "        if s1[i]==s2[len(s2)-i-1]:\n",
    "\n",
    "            return True\n",
    "        i+=1\n",
    "    else:\n",
    "        return False"
   ]
  },
  {
   "cell_type": "code",
   "execution_count": 11,
   "metadata": {},
   "outputs": [
    {
     "data": {
      "text/plain": [
       "True"
      ]
     },
     "execution_count": 11,
     "metadata": {},
     "output_type": "execute_result"
    }
   ],
   "source": [
    "s1 = \"bank\"\n",
    "s2 = \"kanb\"\n",
    "areAlmostEqual(s1,s2)"
   ]
  },
  {
   "cell_type": "markdown",
   "metadata": {},
   "source": [
    "上面是错误答案\n",
    "\n",
    "正确思路：要考虑到不同字符个数，如果超过两个不一样的就要算"
   ]
  },
  {
   "cell_type": "code",
   "execution_count": null,
   "metadata": {},
   "outputs": [],
   "source": [
    "def areAlmostEqual(s1: str, s2: str):\n",
    "    count = 0\n",
    "    #zip内置功能是把两个tuples元组，匹配起来，以最短的为准\n",
    "    for i, j in zip(s1,s2):\n",
    "        if i!=j:\n",
    "            count+=1\n",
    "    ## S1==S2是True, 如果排序后不相等就为False,反之为True,如果C！=2，那么\n",
    "    return s1==s2 or sorted(s1)==sorted(s2) and count==2"
   ]
  },
  {
   "cell_type": "markdown",
   "metadata": {},
   "source": []
  }
 ],
 "metadata": {
  "interpreter": {
   "hash": "d92af96a0148a8d5d2a0fe594a313801aeb1b58206d2c150cb513f496f2d1b1d"
  },
  "kernelspec": {
   "display_name": "Python 3.8.1 64-bit",
   "language": "python",
   "name": "python3"
  },
  "language_info": {
   "codemirror_mode": {
    "name": "ipython",
    "version": 3
   },
   "file_extension": ".py",
   "mimetype": "text/x-python",
   "name": "python",
   "nbconvert_exporter": "python",
   "pygments_lexer": "ipython3",
   "version": "3.8.1"
  },
  "orig_nbformat": 4
 },
 "nbformat": 4,
 "nbformat_minor": 2
}
