{
 "cells": [
  {
   "cell_type": "markdown",
   "metadata": {},
   "source": [
    "Write an algorithm to determine if a number n is happy.\n",
    "\n",
    "A happy number is a number defined by the following process:\n",
    "\n",
    "Starting with any positive integer, replace the number by the sum of the squares of its digits.\n",
    "Repeat the process until the number equals 1 (where it will stay), or it loops endlessly in a cycle which does not include 1.\n",
    "Those numbers for which this process ends in 1 are happy.\n",
    "Return true if n is a happy number, and false if not.\n",
    "\n",
    " \n",
    "\n",
    "Example 1:\n",
    "\n",
    "Input: n = 19\n",
    "Output: true\n",
    "Explanation:\n",
    "1^2 + 9^2 = 82\n",
    "\n",
    "\n",
    "8^2 + 2^2 = 68\n",
    "\n",
    "\n",
    "6^2 + 8^2 = 100\n",
    "\n",
    "\n",
    "1^2 + 0^2 + 0^2 = 1\n",
    "\n",
    "\n",
    "\n",
    "\n",
    "Example 2:\n",
    "\n",
    "Input: n = 2\n",
    "Output: false\n",
    " \n",
    "\n",
    "## Constraints:\n",
    "\n",
    "1 <= n <= 2^31 - 1"
   ]
  },
  {
   "cell_type": "markdown",
   "metadata": {},
   "source": [
    "自己的想法：\n",
    "\n",
    "上来完全没有思路，只能硬算，内部做一个function,递归做法，先把Int转化成string,然后遍历一个个去转化成int加起来。然后再继续算，直到结果为1或者无穷。\n"
   ]
  },
  {
   "cell_type": "code",
   "execution_count": 17,
   "metadata": {},
   "outputs": [],
   "source": [
    "def SumSquare(m):\n",
    "    m = str(m)\n",
    "    sum =0\n",
    "    for i in range(len(m)):\n",
    "        sum += int(m[i])**2\n",
    "    return sum\n",
    "\n",
    "def isHappy(n: int):\n",
    "    while n!=1:\n",
    "        n=SumSquare(n)\n",
    "    else:\n",
    "\n",
    "        return True\n",
    "\n",
    "\n",
    "    \n",
    "\n",
    "\n",
    "        \n",
    "            \n",
    "\n"
   ]
  },
  {
   "cell_type": "markdown",
   "metadata": {},
   "source": [
    "思路错误，正确思路：\n",
    "\n",
    "先拆，然后看是否在一个set里面，不再的话继续加。\n",
    "Algorithm\n",
    "\n",
    "There are 2 parts to the algorithm we'll need to design and code.\n",
    "\n",
    "Given a number nn, what is its next number?\n",
    "Follow a chain of numbers and detect if we've entered a cycle.\n",
    "Part 1 can be done by using the division and modulus operators to repeatedly take digits off the number until none remain, and then squaring each removed digit and adding them together. Have a careful look at the code for this, \"picking digits off one-by-one\" is a useful technique you'll use for solving a lot of different problems.\n",
    "\n",
    "Part 2 can be done using a HashSet. Each time we generate the next number in the chain, we check if it's already in our HashSet.\n",
    "\n",
    "If it is not in the HashSet, we should add it.\n",
    "If it is in the HashSet, that means we're in a cycle and so should return false.\n",
    "The reason we use a HashSet and not a Vector, List, or Array is because we're repeatedly checking whether or not numbers are in it. Checking if a number is in a HashSet takes O(1)O(1) time, whereas for the other data structures it takes O(n)O(n) time. Choosing the correct data structures is an essential part of solving these problems.\n",
    "\n"
   ]
  },
  {
   "cell_type": "code",
   "execution_count": null,
   "metadata": {},
   "outputs": [],
   "source": [
    "def isHappy(n):\n",
    "    def get_next(n):\n",
    "        total_sum =0\n",
    "        while n>0:\n",
    "            #divmod返回10的余数，也就是每一位数\n",
    "            n, digit = divmod(n,10)\n",
    "            total_sum+=digit**2\n",
    "        return total_sum\n",
    "\n",
    "    seen = set()\n",
    "    while n!=1 and n not in seen:\n",
    "        seen.add()\n",
    "        n = get_next(n)\n",
    "    \n",
    "    return n == 1\n"
   ]
  },
  {
   "cell_type": "code",
   "execution_count": 22,
   "metadata": {},
   "outputs": [],
   "source": [
    "#合并 优化\n",
    "\n",
    "def isHappy(n):\n",
    "    def get_next(m):\n",
    "        m = str(m)\n",
    "        sum =0\n",
    "        for i in range(len(m)):\n",
    "            sum += int(m[i])**2\n",
    "        return sum\n",
    "        \n",
    "    seen = set()\n",
    "    while n!=1 and n not in seen:\n",
    "        seen.add(n)\n",
    "        n = get_next(n)\n",
    "        \n",
    "    return n==1\n",
    "        "
   ]
  },
  {
   "cell_type": "code",
   "execution_count": 23,
   "metadata": {},
   "outputs": [
    {
     "data": {
      "text/plain": [
       "True"
      ]
     },
     "execution_count": 23,
     "metadata": {},
     "output_type": "execute_result"
    }
   ],
   "source": [
    "isHappy(19)"
   ]
  },
  {
   "cell_type": "markdown",
   "metadata": {},
   "source": [
    "Runtime: 32 ms, faster than 95.82% of Python3 online submissions for Happy Number.\n",
    "Memory Usage: 13.9 MB, less than 64.44% of Python3 online submissions for Happy Number."
   ]
  }
 ],
 "metadata": {
  "interpreter": {
   "hash": "d92af96a0148a8d5d2a0fe594a313801aeb1b58206d2c150cb513f496f2d1b1d"
  },
  "kernelspec": {
   "display_name": "Python 3.8.1 64-bit",
   "language": "python",
   "name": "python3"
  },
  "language_info": {
   "codemirror_mode": {
    "name": "ipython",
    "version": 3
   },
   "file_extension": ".py",
   "mimetype": "text/x-python",
   "name": "python",
   "nbconvert_exporter": "python",
   "pygments_lexer": "ipython3",
   "version": "3.8.1"
  },
  "orig_nbformat": 4
 },
 "nbformat": 4,
 "nbformat_minor": 2
}
