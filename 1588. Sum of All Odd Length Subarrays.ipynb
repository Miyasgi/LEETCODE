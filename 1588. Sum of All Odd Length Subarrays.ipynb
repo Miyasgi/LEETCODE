{
 "cells": [
  {
   "cell_type": "markdown",
   "metadata": {},
   "source": [
    "## Content\n",
    "Given an array of positive integers arr, calculate the sum of all possible odd-length subarrays.\n",
    "\n",
    "A subarray is a contiguous subsequence of the array.\n",
    "\n",
    "Return the sum of all odd-length subarrays of arr.\n",
    "\n",
    " \n",
    "\n",
    "Example 1:\n",
    "\n",
    "Input: arr = [1,4,2,5,3]\n",
    "Output: 58\n",
    "Explanation: The odd-length subarrays of arr and their sums are:\n",
    "[1] = 1\n",
    "[4] = 4\n",
    "[2] = 2\n",
    "[5] = 5\n",
    "[3] = 3\n",
    "[1,4,2] = 7\n",
    "[4,2,5] = 11\n",
    "[2,5,3] = 10\n",
    "[1,4,2,5,3] = 15\n",
    "If we add all these together we get 1 + 4 + 2 + 5 + 3 + 7 + 11 + 10 + 15 = 58\n",
    "\n",
    "\n",
    "\n",
    "\n",
    "\n",
    "\n",
    "\n",
    "Example 2:\n",
    "\n",
    "Input: arr = [1,2]\n",
    "Output: 3\n",
    "Explanation: There are only 2 subarrays of odd length, [1] and [2]. Their sum is 3.\n",
    "Example 3:\n",
    "\n",
    "Input: arr = [10,11,12]\n",
    "Output: 66\n",
    " \n",
    "\n",
    "## Constraints:\n",
    "\n",
    "1 <= arr.length <= 100\n",
    "1 <= arr[i] <= 1000"
   ]
  },
  {
   "cell_type": "markdown",
   "metadata": {},
   "source": [
    "自己思路：\n",
    "1. 这个题倒是挺直接的，挑选长度为奇数的子集，子集是连续的，所以不存在随便挑，要按照顺序。\n",
    "2. 首先肯定要做长度为1的，每个元素自身构成一个子集,对每个进行加和。\n",
    "3. 然后是下一个奇数3，按照顺序往后，直到原子集长度-3为止,\n",
    "4. 以此类推，直到len(arr)-i, i为奇数。\n",
    "5. 做的时候，对应该怎么遍历产生了疑问。\n",
    "6. 需要掌握对array的什么知识？提交成功率这么高应该事基础知识。\n",
    "7. 是否要先判断这个array的长度是否为奇数，然后看里面是否包含什么规律\n",
    "8. 我看到，不管整体长度是否为奇数，都要加和这个数组里所有的数一次。如果是奇数就加两次。"
   ]
  },
  {
   "cell_type": "code",
   "execution_count": 1,
   "metadata": {},
   "outputs": [
    {
     "name": "stdout",
     "output_type": "stream",
     "text": [
      "1\n",
      "4\n",
      "2\n",
      "5\n",
      "3\n"
     ]
    }
   ],
   "source": [
    "arr = [1,4,2,5,3]\n",
    "for a in arr:\n",
    "    print(a)"
   ]
  },
  {
   "cell_type": "code",
   "execution_count": 3,
   "metadata": {},
   "outputs": [],
   "source": [
    "#直观做法\n",
    "\n",
    "def sumOddLengthSubarrays(arr):\n",
    "    s = 0\n",
    "    for i in range(len(arr)):\n",
    "        for j in range(i, len(arr),2):\n",
    "            s+= sum(arr[i:j+1])\n",
    "    return s\n",
    "        "
   ]
  },
  {
   "cell_type": "code",
   "execution_count": 4,
   "metadata": {},
   "outputs": [
    {
     "data": {
      "text/plain": [
       "58"
      ]
     },
     "execution_count": 4,
     "metadata": {},
     "output_type": "execute_result"
    }
   ],
   "source": [
    "arr = [1,4,2,5,3]\n",
    "sumOddLengthSubarrays(arr)"
   ]
  },
  {
   "cell_type": "markdown",
   "metadata": {},
   "source": [
    "## 大神做法\n",
    "\n",
    "The idea is to count the frequency of each element in arr appearing in the sub array, then sum up arr[i]*freq[i]. The key is how to count the freq[i] of each element arr[i]. Actually, freq[i] = freq[i-1]-(i+1)//2+(n-i+1)//2. n is the arr length.\n",
    "\n",
    "for example arr = [1,4,2,5,3], element arr[0] = 1. The appearing freq of head element arr[0] should be how many odd-length sub arrays it can generate. The answer is (len(arr)+1)//2. Therefore, the freq of element arr[0] = 1 is (5+1)//2=3.\n",
    "\n",
    "Now let's take element arr[1] = 4 for example, if we take element arr[0] = 1 out, then arr[1] = 4 becomes the new head element, thus the freq of arr[1] = 4 in the new subarray could be calculated as the same way of arr[0] = 1. It seems that all we need to do is add the freq of previous element arr[0] up then we get the freq of arr[1].\n",
    "\n",
    "No, we also need to minus the subarrays of previous element arr[0] = 1 when they do not include arr[1]=4. In this case, it is [1]. This is why freq[i] = freq[i-1]-(i+1)//2+(n-i+1)//2.\n",
    "\n",
    "To sum up, the core idea is to find the relationship between freq_current_element and freq_previous_element.\n",
    "<img src=\"pics/1588solution.png\">"
   ]
  },
  {
   "cell_type": "code",
   "execution_count": null,
   "metadata": {},
   "outputs": [],
   "source": [
    "class Solution:\n",
    "    def sumOddLengthSubarrays(self, arr: List[int]) -> int:\n",
    "        # corner case\n",
    "        \n",
    "        res = 0; freq = 0; n = len(arr)\n",
    "        for i in range(n):\n",
    "            freq = freq-(i+1)//2+(n-i+1)//2\n",
    "            res += freq*arr[i]\n",
    "        return res"
   ]
  },
  {
   "cell_type": "markdown",
   "metadata": {},
   "source": []
  }
 ],
 "metadata": {
  "interpreter": {
   "hash": "d92af96a0148a8d5d2a0fe594a313801aeb1b58206d2c150cb513f496f2d1b1d"
  },
  "kernelspec": {
   "display_name": "Python 3.8.1 64-bit",
   "language": "python",
   "name": "python3"
  },
  "language_info": {
   "codemirror_mode": {
    "name": "ipython",
    "version": 3
   },
   "file_extension": ".py",
   "mimetype": "text/x-python",
   "name": "python",
   "nbconvert_exporter": "python",
   "pygments_lexer": "ipython3",
   "version": "3.8.1"
  },
  "orig_nbformat": 4
 },
 "nbformat": 4,
 "nbformat_minor": 2
}
