{
 "cells": [
  {
   "cell_type": "markdown",
   "metadata": {},
   "source": [
    "# Valid Parentheses\n",
    "\n",
    "Given a string containing just the characters '(', ')', '{', '}', '[' and ']', determine if the input string is valid.\n",
    "\n",
    "The brackets must close in the correct order, \"()\" and \"()[]{}\" are all valid but \"(]\" and \"([)]\" are not."
   ]
  },
  {
   "cell_type": "code",
   "execution_count": 1,
   "metadata": {},
   "outputs": [],
   "source": [
    "# Not success in for some cases in LEETCODE\n",
    "\n",
    "# Using stack to find the parenthes\n",
    "def isValid(s):\n",
    "    stack = []\n",
    "    for i in range(len(s)):\n",
    "        if s[i] == '(' or s[i] =='[' or s[i] == '{':\n",
    "            stack.append(s[i])\n",
    "        if s[i] == ')':\n",
    "        # if stack is empty or the head of stack is not pair with corresponding parenthes\n",
    "            if stack == [] or stack.pop() != '(':\n",
    "                return False\n",
    "        if s[i] == ']':\n",
    "            if stack == [] or stack.pop() != '[':\n",
    "                return False\n",
    "        if s[i] == '}':\n",
    "            if stack == [] or stack.pop() != '}':\n",
    "                return False\n",
    "        if stack:\n",
    "            return False\n",
    "        else:\n",
    "            return True\n",
    "                "
   ]
  },
  {
   "cell_type": "code",
   "execution_count": 8,
   "metadata": {},
   "outputs": [],
   "source": [
    "s = \"here is the (abc]\""
   ]
  },
  {
   "cell_type": "code",
   "execution_count": 9,
   "metadata": {},
   "outputs": [
    {
     "data": {
      "text/plain": [
       "True"
      ]
     },
     "execution_count": 9,
     "metadata": {},
     "output_type": "execute_result"
    }
   ],
   "source": [
    "isValid(s)"
   ]
  },
  {
   "cell_type": "markdown",
   "metadata": {},
   "source": [
    "\n",
    "## 用栈来操作，将所有的字符依次入栈，当栈顶的括号和正要入栈的括号匹配时将栈顶的括号弹出且不入栈，否则入栈新的括号。最后，只有当栈里没有括号时，才表明输入是有效的。\n"
   ]
  },
  {
   "cell_type": "code",
   "execution_count": 7,
   "metadata": {},
   "outputs": [],
   "source": [
    "\n",
    "\n",
    "def isValid2(s):\n",
    "    \n",
    "    pars =[None] \n",
    "    # Create a dictionary to store all pair parentheses \n",
    "    parmap = {')':'(', '}':'{', ']':'['}\n",
    "    for c in s:\n",
    "        # If found the pair parenthes in the list, pop it out\n",
    "        if c in parmap and parmap[c] == pars[len(pars)-1]:\n",
    "            # the pop function will remove the first element\n",
    "            pars.pop()\n",
    "            print(pars)\n",
    "        else:\n",
    "            pars.append(c)\n",
    "        return len(pars) ==1\n",
    "    "
   ]
  },
  {
   "cell_type": "code",
   "execution_count": 8,
   "metadata": {},
   "outputs": [
    {
     "data": {
      "text/plain": [
       "False"
      ]
     },
     "execution_count": 8,
     "metadata": {},
     "output_type": "execute_result"
    }
   ],
   "source": [
    "isValid2(\"here is the (abc]\")"
   ]
  },
  {
   "cell_type": "code",
   "execution_count": 9,
   "metadata": {},
   "outputs": [
    {
     "data": {
      "text/plain": [
       "False"
      ]
     },
     "execution_count": 9,
     "metadata": {},
     "output_type": "execute_result"
    }
   ],
   "source": [
    "isValid2(\"here is the (abc)\")"
   ]
  },
  {
   "cell_type": "code",
   "execution_count": null,
   "metadata": {},
   "outputs": [],
   "source": []
  }
 ],
 "metadata": {
  "kernelspec": {
   "display_name": "Python 3",
   "language": "python",
   "name": "python3"
  },
  "language_info": {
   "codemirror_mode": {
    "name": "ipython",
    "version": 3
   },
   "file_extension": ".py",
   "mimetype": "text/x-python",
   "name": "python",
   "nbconvert_exporter": "python",
   "pygments_lexer": "ipython3",
   "version": "3.6.4"
  }
 },
 "nbformat": 4,
 "nbformat_minor": 2
}
