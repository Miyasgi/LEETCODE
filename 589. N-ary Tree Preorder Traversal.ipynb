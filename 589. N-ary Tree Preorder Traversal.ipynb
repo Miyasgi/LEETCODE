{
 "cells": [
  {
   "cell_type": "markdown",
   "metadata": {},
   "source": [
    "\n",
    "## Content\n",
    "Given the root of an n-ary tree, return the preorder traversal of its nodes' values.\n",
    "\n",
    "Nary-Tree input serialization is represented in their level order traversal. Each group of children is separated by the null value (See examples)\n",
    "\n",
    " \n",
    "\n",
    "Example 1:\n",
    "\n",
    "<img src=\"pics/narytreeexample1.png\">\n",
    "\n",
    "Input: root = [1,null,3,2,4,null,5,6]\n",
    "Output: [1,3,5,6,2,4]\n",
    "\n",
    "\n",
    "\n",
    "Example 2:\n",
    "\n",
    "\n",
    "<img src=\"pics/narytreeexample2.png\">\n",
    "\n",
    "\n",
    "Input: root = [1,null,2,3,4,5,null,null,6,7,null,8,null,9,10,null,null,11,null,12,null,13,null,null,14]\n",
    "\n",
    "\n",
    "\n",
    "Output: [1,2,3,6,7,11,14,4,8,12,5,9,13,10]\n",
    " \n",
    "\n",
    "Constraints:\n",
    "\n",
    "The number of nodes in the tree is in the range [0, 10^4].\n",
    "0 <= Node.val <= 10^4\n",
    "The height of the n-ary tree is less than or equal to 1000.\n",
    " "
   ]
  },
  {
   "cell_type": "markdown",
   "metadata": {},
   "source": [
    "自己思路：题目给的是N-ary Tree,也就是多叉树的意思，题目说每组子树是用null value来隔开。也就是说通过用null当分隔符，当只有一个null时候，跳到下一个树。目的是为了对树进行按顺序读取，树读的顺序是先读根，然后读它的叶子和叶子的下一级。\n",
    "\n",
    "\n",
    "\n",
    "Example 1 Sort\n",
    "\n",
    "\n",
    "\n",
    "<img src=\"pics/narytreeexample1Sort.png\">\n",
    "\n",
    "\n",
    "Example 2 Sort\n",
    "\n",
    "\n",
    "\n",
    "\n",
    "<img src=\"pics/narytreeexample2sort.png\">\n",
    "\n",
    "\n",
    "我对Python或者编程里面的二叉树一直不明白，我只能通过现有的图去对照已有的root列表，但是如果给我一个列表我很难画出二叉树来。\n",
    "\n",
    "这块需要学习理解查资料。\n",
    "查的时候发现树有一个很有用的用法是去读取目录，因为目录一定意义是树结构。\n",
    "对这种题我现在没有解题头绪，时间是04/18/2022\n"
   ]
  },
  {
   "cell_type": "code",
   "execution_count": 2,
   "metadata": {},
   "outputs": [],
   "source": [
    "\"\"\"\n",
    "# Definition for a Node.\n",
    "class Node(object):\n",
    "    def __init__(self, val=None, children=None):\n",
    "        self.val = val\n",
    "        self.children = children\n",
    "\"\"\"\n",
    "\"\"\"\n",
    "正确解题思路使用了递归，上面的是题目提醒，Node的定义,这道题本身是为了考察Function的知识点，也就是如何创建function并调用。也是递归\n",
    "这个概念最常用的方法。\n",
    "\"\"\"\n",
    "'''\n",
    "The Depth-First Search is a recursive algorithm that uses the concept of backtracking. \n",
    "It involves thorough searches of all the nodes by going ahead if potential, else by backtracking. \n",
    "Here, the word backtrack means once you are moving forward and there are not any more nodes along \n",
    "the present path, you progress backward on an equivalent path to seek out nodes to traverse.\n",
    " All the nodes are progressing to be visited on the current path until all the unvisited nodes are traversed \n",
    " after which subsequent paths are going to be selected.\n",
    "\n",
    "DFS Algorithm\n",
    "Before learning the python code for Depth-First and its output, let us go through the algorithm \n",
    "it follows for the same. The recursive method of the Depth-First Search algorithm is implemented using stack. \n",
    "A standard Depth-First Search implementation puts every vertex of the graph into one in all 2 categories: \n",
    "1) Visited 2) Not Visited. The only purpose of this algorithm is to visit all the vertex of the graph avoiding cycles.\n",
    "\n",
    "The DSF algorithm follows as:\n",
    "\n",
    "We will start by putting any one of the graph's vertex on top of the stack.\n",
    "After that take the top item of the stack and add it to the visited list of the vertex.\n",
    "Next, create a list of that adjacent node of the vertex. Add the ones which aren't in the visited list of vertexes to the top of the stack.\n",
    "Lastly, keep repeating steps 2 and 3 until the stack is empty.\n",
    "'''\n",
    "def preorder(self,root):\n",
    "    output = []\n",
    "\n",
    "    self.dfs(root,output)\n",
    "    return output\n",
    "\n",
    "def dfs(self, root, output):\n",
    "    if root is None:\n",
    "        return None\n",
    "\n",
    "    #先添加第一个根到输出    \n",
    "    output.append(root.val)\n",
    "\n",
    "    for child in root.children:\n",
    "        self.dfs(child, output)\n",
    "\n"
   ]
  },
  {
   "cell_type": "code",
   "execution_count": 5,
   "metadata": {},
   "outputs": [
    {
     "ename": "NameError",
     "evalue": "name 'null' is not defined",
     "output_type": "error",
     "traceback": [
      "\u001b[1;31m---------------------------------------------------------------------------\u001b[0m",
      "\u001b[1;31mNameError\u001b[0m                                 Traceback (most recent call last)",
      "\u001b[1;32m<ipython-input-5-a181f422a2a9>\u001b[0m in \u001b[0;36m<module>\u001b[1;34m\u001b[0m\n\u001b[0;32m      4\u001b[0m         \u001b[0mself\u001b[0m\u001b[1;33m.\u001b[0m\u001b[0mchildren\u001b[0m \u001b[1;33m=\u001b[0m \u001b[0mchildren\u001b[0m\u001b[1;33m\u001b[0m\u001b[1;33m\u001b[0m\u001b[0m\n\u001b[0;32m      5\u001b[0m \u001b[1;33m\u001b[0m\u001b[0m\n\u001b[1;32m----> 6\u001b[1;33m \u001b[0mNode\u001b[0m \u001b[1;33m=\u001b[0m \u001b[1;33m[\u001b[0m\u001b[1;36m1\u001b[0m\u001b[1;33m,\u001b[0m\u001b[0mnull\u001b[0m\u001b[1;33m,\u001b[0m\u001b[1;36m2\u001b[0m\u001b[1;33m,\u001b[0m\u001b[1;36m3\u001b[0m\u001b[1;33m,\u001b[0m\u001b[1;36m4\u001b[0m\u001b[1;33m,\u001b[0m\u001b[1;36m5\u001b[0m\u001b[1;33m,\u001b[0m\u001b[0mnull\u001b[0m\u001b[1;33m,\u001b[0m\u001b[0mnull\u001b[0m\u001b[1;33m,\u001b[0m\u001b[1;36m6\u001b[0m\u001b[1;33m,\u001b[0m\u001b[1;36m7\u001b[0m\u001b[1;33m,\u001b[0m\u001b[0mnull\u001b[0m\u001b[1;33m,\u001b[0m\u001b[1;36m8\u001b[0m\u001b[1;33m,\u001b[0m\u001b[0mnull\u001b[0m\u001b[1;33m,\u001b[0m\u001b[1;36m9\u001b[0m\u001b[1;33m,\u001b[0m\u001b[1;36m10\u001b[0m\u001b[1;33m,\u001b[0m\u001b[0mnull\u001b[0m\u001b[1;33m,\u001b[0m\u001b[0mnull\u001b[0m\u001b[1;33m,\u001b[0m\u001b[1;36m11\u001b[0m\u001b[1;33m,\u001b[0m\u001b[0mnull\u001b[0m\u001b[1;33m,\u001b[0m\u001b[1;36m12\u001b[0m\u001b[1;33m,\u001b[0m\u001b[0mnull\u001b[0m\u001b[1;33m,\u001b[0m\u001b[1;36m13\u001b[0m\u001b[1;33m,\u001b[0m\u001b[0mnull\u001b[0m\u001b[1;33m,\u001b[0m\u001b[0mnull\u001b[0m\u001b[1;33m,\u001b[0m\u001b[1;36m14\u001b[0m\u001b[1;33m]\u001b[0m\u001b[1;33m\u001b[0m\u001b[1;33m\u001b[0m\u001b[0m\n\u001b[0m\u001b[0;32m      7\u001b[0m \u001b[1;33m\u001b[0m\u001b[0m\n\u001b[0;32m      8\u001b[0m \u001b[0mpreorder\u001b[0m\u001b[1;33m(\u001b[0m\u001b[0mroot\u001b[0m\u001b[1;33m)\u001b[0m\u001b[1;33m\u001b[0m\u001b[1;33m\u001b[0m\u001b[0m\n",
      "\u001b[1;31mNameError\u001b[0m: name 'null' is not defined"
     ]
    }
   ],
   "source": [
    "class Node(object):\n",
    "    def __init__(self, val=None, children=None):\n",
    "        self.val = val\n",
    "        self.children = children\n",
    "\n",
    "Node = [1,null,2,3,4,5,null,null,6,7,null,8,null,9,10,null,null,11,null,12,null,13,null,null,14]\n",
    "\n",
    "preorder(root)"
   ]
  },
  {
   "cell_type": "code",
   "execution_count": null,
   "metadata": {},
   "outputs": [],
   "source": []
  }
 ],
 "metadata": {
  "interpreter": {
   "hash": "d92af96a0148a8d5d2a0fe594a313801aeb1b58206d2c150cb513f496f2d1b1d"
  },
  "kernelspec": {
   "display_name": "Python 3.8.1 64-bit",
   "language": "python",
   "name": "python3"
  },
  "language_info": {
   "codemirror_mode": {
    "name": "ipython",
    "version": 3
   },
   "file_extension": ".py",
   "mimetype": "text/x-python",
   "name": "python",
   "nbconvert_exporter": "python",
   "pygments_lexer": "ipython3",
   "version": "3.8.1"
  },
  "orig_nbformat": 4
 },
 "nbformat": 4,
 "nbformat_minor": 2
}
