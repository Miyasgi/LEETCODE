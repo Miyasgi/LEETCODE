{
 "cells": [
  {
   "cell_type": "markdown",
   "metadata": {},
   "source": [
    "Given the root of a binary tree, return its maximum depth.\n",
    "\n",
    "A binary tree's maximum depth is the number of nodes along the longest path from the root node down to the farthest leaf node.\n",
    "\n",
    " \n",
    "\n",
    "Example 1:\n",
    "\n",
    "<img src=\"pics/104.jpg\">\n",
    "\n",
    "\n",
    "Input: root = [3,9,20,null,null,15,7]\n",
    "\n",
    "\n",
    "Output: 3\n",
    "\n",
    "\n",
    "Example 2:\n",
    "\n",
    "Input: root = [1,null,2]\n",
    "\n",
    "\n",
    "Output: 2\n",
    " \n",
    "\n",
    "## Constraints:\n",
    "\n",
    "The number of nodes in the tree is in the range [0, 10^4].\n",
    "\n",
    "-100 <= Node.val <= 100"
   ]
  },
  {
   "cell_type": "markdown",
   "metadata": {},
   "source": [
    "## 自己思路\n",
    "\n",
    "1. 这个要正确理解树的概念，怎么去读\n",
    "2. 第二个就是在考递归recursive概念。"
   ]
  },
  {
   "cell_type": "code",
   "execution_count": null,
   "metadata": {
    "vscode": {
     "languageId": "plaintext"
    }
   },
   "outputs": [],
   "source": [
    "# Definition for a binary tree node.\n",
    "# class TreeNode:\n",
    "#     def __init__(self, val=0, left=None, right=None):\n",
    "#         self.val = val\n",
    "#         self.left = left\n",
    "#         self.right = right\n",
    "class Solution:\n",
    "    maxTreeDepth = 0 \n",
    "    \n",
    "    def maxDepth(self, root: Optional[TreeNode]) -> int:\n",
    "        self.maxDepthRecursive(root, 0)\n",
    "        return self.maxTreeDepth \n",
    "        \n",
    "    def maxDepthRecursive(self, root, currentDepth): \n",
    "        \n",
    "        if not root: \n",
    "            return \n",
    "    \n",
    "        newDepth = currentDepth + 1\n",
    "        self.maxTreeDepth = max(self.maxTreeDepth, newDepth)\n",
    "        \n",
    "        self.maxDepthRecursive(root.left, newDepth)\n",
    "        self.maxDepthRecursive(root.right, newDepth)\n",
    "        "
   ]
  }
 ],
 "metadata": {
  "language_info": {
   "name": "python"
  },
  "orig_nbformat": 4
 },
 "nbformat": 4,
 "nbformat_minor": 2
}
