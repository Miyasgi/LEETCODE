{
 "cells": [
  {
   "cell_type": "markdown",
   "metadata": {},
   "source": [
    "Given the head of a singly linked list, return the middle node of the linked list.\n",
    "\n",
    "If there are two middle nodes, return the second middle node.\n",
    "\n",
    " \n",
    "\n",
    "Example 1:\n",
    "\n",
    "<img src=\"pics/876eg1.jpg\">\n",
    "\n",
    "\n",
    "Input: head = [1,2,3,4,5]\n",
    "\n",
    "\n",
    "Output: [3,4,5]\n",
    "\n",
    "\n",
    "Explanation: The middle node of the list is node 3.\n",
    "\n",
    "\n",
    "Example 2:\n",
    "\n",
    "<img src=\"pics/876eg2.jpg\">\n",
    "\n",
    "Input: head = [1,2,3,4,5,6]\n",
    "\n",
    "Output: [4,5,6]\n",
    "\n",
    "\n",
    "Explanation: Since the list has two middle nodes with values 3 and 4, we return the second one.\n",
    " \n",
    "\n",
    "Constraints:\n",
    "\n",
    "The number of nodes in the list is in the range [1, 100].\n",
    "1 <= Node.val <= 100"
   ]
  },
  {
   "cell_type": "markdown",
   "metadata": {},
   "source": [
    "# 自己想法\n",
    "1. 链表就是找中间那个，带出后面的元素\n",
    "2. 如果是偶数的就带第二个\n",
    "3. 可以试着查看元素个数？ 奇数带中间，偶数带mid+1"
   ]
  },
  {
   "cell_type": "markdown",
   "metadata": {},
   "source": []
  },
  {
   "cell_type": "markdown",
   "metadata": {},
   "source": [
    "# 正确思路\n",
    "Output to Array\n",
    "Intuition and Algorithm\n",
    "\n",
    "Put every node into an array A in order. Then the middle node is just A[A.length // 2], since we can retrieve each node by index.\n",
    "\n",
    "We can initialize the array to be of length 100, as we're told in the problem description that the input contains between 1 and 100 nodes."
   ]
  },
  {
   "cell_type": "code",
   "execution_count": null,
   "metadata": {
    "vscode": {
     "languageId": "plaintext"
    }
   },
   "outputs": [],
   "source": [
    "# Definition for singly-linked list.\n",
    "# class ListNode:\n",
    "#     def __init__(self, val=0, next=None):\n",
    "#         self.val = val\n",
    "#         self.next = next\n",
    "class Solution:\n",
    "    def middleNode(self, head: Optional[ListNode]) -> Optional[ListNode]:\n",
    "        arr = [head]\n",
    "        while arr[-1].next:\n",
    "            arr.append(arr[-1].next)\n",
    "        return arr[len(arr) // 2 ]\n",
    "        "
   ]
  }
 ],
 "metadata": {
  "language_info": {
   "name": "python"
  },
  "orig_nbformat": 4
 },
 "nbformat": 4,
 "nbformat_minor": 2
}
