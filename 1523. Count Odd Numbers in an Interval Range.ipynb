{
 "cells": [
  {
   "cell_type": "markdown",
   "metadata": {},
   "source": [
    "# Count Odd Numbers in an Interval Range\n"
   ]
  },
  {
   "cell_type": "markdown",
   "metadata": {},
   "source": [
    "## Given two non-negative integers low and high. Return the count of odd numbers between low and high (inclusive).\n",
    "\n",
    "\n"
   ]
  },
  {
   "cell_type": "markdown",
   "metadata": {},
   "source": [
    "Example 1:\n",
    "\n",
    "Input: low = 3, high = 7\n",
    "Output: 3\n",
    "\n",
    "Explanation: The odd numbers between 3 and 7 are [3,5,7].\n",
    "Example 2:\n",
    "\n",
    "Input: low = 8, high = 10\n",
    "Output: 1\n",
    "\n",
    "Explanation: The odd numbers between 8 and 10 are [9].\n",
    " \n",
    "\n",
    "Constraints:\n",
    "\n",
    "0 <= low <= high <= 10^9"
   ]
  },
  {
   "cell_type": "code",
   "execution_count": 31,
   "metadata": {},
   "outputs": [],
   "source": [
    "\n",
    "def countOdds(low: int, high: int) -> int:\n",
    "    if (low % 2 ==0 and high % 2==0):\n",
    "        return print(int((high-low)/2))\n",
    "    else:\n",
    "        return print(int((high-low)/2 +1))\n",
    "\n",
    "\n"
   ]
  },
  {
   "cell_type": "code",
   "execution_count": 33,
   "metadata": {},
   "outputs": [
    {
     "name": "stdout",
     "output_type": "stream",
     "text": [
      "17\n"
     ]
    }
   ],
   "source": [
    "\n",
    "countOdds(low=9,high=41)"
   ]
  },
  {
   "cell_type": "markdown",
   "metadata": {},
   "source": [
    "自己想的解题思路：\n",
    "1.首先判断是否为0，如果为0返回0\n",
    "2.从low开始到high,+1循环，判断是否能被2整除\n",
    "3.返回一个count，起始值为0，如果能被2整除，+1，进行下一个判断，直到循环结束\n"
   ]
  },
  {
   "cell_type": "markdown",
   "metadata": {},
   "source": [
    "正确解题思路，观察开始和结尾的规律。如果开始和结尾都是偶数，奇数的数量是两数之差除以2，如果有一个是奇数，或者都是奇数，数量是两数之差除二加1.\n",
    "\n",
    "使用Python3的时候还要使用Int转化"
   ]
  }
 ],
 "metadata": {
  "interpreter": {
   "hash": "d92af96a0148a8d5d2a0fe594a313801aeb1b58206d2c150cb513f496f2d1b1d"
  },
  "kernelspec": {
   "display_name": "Python 3.8.1 64-bit",
   "name": "python3"
  },
  "language_info": {
   "codemirror_mode": {
    "name": "ipython",
    "version": 3
   },
   "file_extension": ".py",
   "mimetype": "text/x-python",
   "name": "python",
   "nbconvert_exporter": "python",
   "pygments_lexer": "ipython3",
   "version": "3.8.1"
  },
  "orig_nbformat": 4
 },
 "nbformat": 4,
 "nbformat_minor": 2
}
