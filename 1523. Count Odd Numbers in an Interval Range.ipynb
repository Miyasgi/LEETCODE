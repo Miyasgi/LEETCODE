{
 "cells": [
  {
   "cell_type": "markdown",
   "metadata": {},
   "source": [
    "# Count Odd Numbers in an Interval Range\n"
   ]
  },
  {
   "cell_type": "markdown",
   "metadata": {},
   "source": [
    "## Given two non-negative integers low and high. Return the count of odd numbers between low and high (inclusive).\n",
    "\n",
    "\n"
   ]
  },
  {
   "cell_type": "markdown",
   "metadata": {},
   "source": [
    "Example 1:\n",
    "\n",
    "Input: low = 3, high = 7\n",
    "Output: 3\n",
    "\n",
    "Explanation: The odd numbers between 3 and 7 are [3,5,7].\n",
    "Example 2:\n",
    "\n",
    "Input: low = 8, high = 10\n",
    "Output: 1\n",
    "\n",
    "Explanation: The odd numbers between 8 and 10 are [9].\n",
    " \n",
    "\n",
    "Constraints:\n",
    "\n",
    "0 <= low <= high <= 10^9"
   ]
  },
  {
   "cell_type": "code",
   "execution_count": 31,
   "metadata": {},
   "outputs": [],
   "source": [
    "\n",
    "def countOdds(low: int, high: int) -> int:\n",
    "    if (low % 2 ==0 and high % 2==0):\n",
    "        return print(int((high-low)/2))\n",
    "    else:\n",
    "        return print(int((high-low)/2 +1))\n",
    "\n",
    "\n"
   ]
  },
  {
   "cell_type": "code",
   "execution_count": 33,
   "metadata": {},
   "outputs": [
    {
     "name": "stdout",
     "output_type": "stream",
     "text": [
      "17\n"
     ]
    }
   ],
   "source": [
    "\n",
    "countOdds(low=9,high=41)"
   ]
  },
  {
   "cell_type": "markdown",
   "metadata": {},
   "source": [
    "自己想的解题思路：\n",
    "1.首先判断是否为0，如果为0返回0\n",
    "2.从low开始到high,+1循环，判断是否能被2整除\n",
    "3.返回一个count，起始值为0，如果能被2整除，+1，进行下一个判断，直到循环结束\n"
   ]
  },
  {
   "cell_type": "markdown",
   "metadata": {},
   "source": [
    "正确解题思路，观察开始和结尾的规律。如果开始和结尾都是偶数，奇数的数量是两数之差除以2，如果有一个是奇数，或者都是奇数，数量是两数之差除二加1.\n",
    "\n",
    "使用Python3的时候还要使用Int转化"
   ]
  },
  {
   "cell_type": "markdown",
   "metadata": {},
   "source": [
    "2022年4月4日，今天开始第一个自律100天。\n",
    "\n",
    "你希望“自律100天”养成哪些习惯？\n",
    "游泳（健身），coding刷题，学习PM面试知识\n",
    "\n",
    "在当前的情况下，这个期待最好的结果是什么？\n",
    "\n",
    "拿到谷歌offer\n",
    "\n",
    "在当前的情况下，在持续进行“OHTT”最大的现实障碍可能是什么？\n",
    "能力不够，经验不够\n",
    "\n",
    "当你遇到这些现实障碍的时候，你会有什么样的应对方法。\n",
    "提高能力，刷经验\n",
    "\n",
    "【问题1】为什么要选择这三件事作为我自律100天计划的事项？\n",
    "\n",
    "游泳（健身）-保证身体健康，培养自控力，让自己重新变得自律坚韧。\n",
    "coding刷题-面试的时候如何考算法和coding，心不会虚，心虚就面试不好。\n",
    "学习PM知识-学习新知识，为了新工作，同时为了PMP的证书。\n",
    "【问题2】这三件事于我而言为什么那么重要？请分别说明。\n",
    "游泳-身体好是一切的前提，家庭和工作美满美好都需要一个好的身体来支撑和维护。游泳是最高效最无伤的运动手段。同时对我的鼻炎也有很大的改善，提高幸福感。\n",
    "coding刷题-这个是我面试的时候的短板，自己面试的时候一面就会露馅，其他的可以靠话术和经验来补充，但是这个短板我一直没有去修补，导致现在对面试有阴影。如果不走出舒适区去硬磕这块短板，就很难去成功面试。\n",
    "学习PM知识-本来拿到PMP证书是去年的短期计划，但是搁浅了。这个是职业生涯再进步的一个方法和跳板，如果没有这个，到了新公司如果没有理念和知识，经验其实不一定能有很多优势。不学习的话就很容易落后。\n",
    "\n",
    "【问题3】当我每天都做到了这三件事，会成为一个什么样的人？请用三个关键词来描述。\n",
    "\n",
    "身体好，不心虚，有更好的满足感。\n",
    "\n",
    "【问题4】当你成为这样的人之后，除了你之外，还有谁会受益？\n",
    "\n",
    "我家人会受益。老婆和孩子因为我身体好而放心和安心。刷题成功带来新的工作机会，跳槽找到待遇更好的工作，可以改善家庭生活条件。父母也因为自己能力变强而收益，来美国压力更小，不用担心养老问题。\n",
    "\n",
    "【问题5】如果用一种颜色来形容你那个时候的状态，会是什么颜色？为什么？\n",
    "\n",
    "金光闪闪，人生得到有限的圆满，不争不抢，没有后顾之忧。\n",
    "\n",
    "【问题6】如果用一种动物来形容你那个时候的状态，你会选择哪种动物？为什么？\n",
    "\n",
    "雄狮，领导家庭在美国这个优胜劣汰的草原扎根繁衍。\n",
    "\n",
    "【问题7】从今天开始，你会选择什么时间来完成这三件事？\n",
    "\n",
    "晚上5：30 PM准时游泳\n",
    "下午3点去刷题\n",
    "下午4点去学PM知识\n",
    "\n",
    "【问题8】如果每日三件事你都完成了，你将会给自己什么奖励？\n",
    "奖励自己痛快的 玩尘埃拉力赛2.0不带任何心理压力。"
   ]
  }
 ],
 "metadata": {
  "interpreter": {
   "hash": "d92af96a0148a8d5d2a0fe594a313801aeb1b58206d2c150cb513f496f2d1b1d"
  },
  "kernelspec": {
   "display_name": "Python 3.8.1 64-bit",
   "name": "python3"
  },
  "language_info": {
   "codemirror_mode": {
    "name": "ipython",
    "version": 3
   },
   "file_extension": ".py",
   "mimetype": "text/x-python",
   "name": "python",
   "nbconvert_exporter": "python",
   "pygments_lexer": "ipython3",
   "version": "3.8.1"
  },
  "orig_nbformat": 4
 },
 "nbformat": 4,
 "nbformat_minor": 2
}
