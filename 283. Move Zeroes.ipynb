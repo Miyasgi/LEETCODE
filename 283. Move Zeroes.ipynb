{
 "cells": [
  {
   "cell_type": "markdown",
   "metadata": {},
   "source": [
    "## Content\n",
    "Given an integer array nums, move all 0's to the end of it while maintaining the relative order of the non-zero elements.\n",
    "\n",
    "Note that you must do this in-place without making a copy of the array.\n",
    "\n",
    " \n",
    "\n",
    "Example 1:\n",
    "\n",
    "Input: nums = [0,1,0,3,12]\n",
    "Output: [1,3,12,0,0]\n",
    "\n",
    "\n",
    "\n",
    "\n",
    "Example 2:\n",
    "\n",
    "Input: nums = [0]\n",
    "Output: [0]\n",
    " \n",
    "## Constraints:\n",
    "\n",
    "1 <= nums.length <= 10^4\n",
    "-2^31 <= nums[i] <= 2^31 - 1"
   ]
  },
  {
   "cell_type": "markdown",
   "metadata": {},
   "source": [
    "自己思路：\n",
    "1. 题目是让把所有0挪到后面，且不能重新复制一个新的array。\n",
    "2. 我想是用排序的，但是负数是考虑的问题。\n",
    "3. 没思路"
   ]
  },
  {
   "cell_type": "code",
   "execution_count": null,
   "metadata": {},
   "outputs": [],
   "source": [
    "def moveZeros(nums):\n",
    "    n = len(nums)\n",
    "    i = 0\n",
    "    for j in range(n):\n",
    "        if (nums[j] != 0):\n",
    "            nums[i], nums[j] = nums[j], nums[i]\n",
    "            i += 1\n"
   ]
  },
  {
   "cell_type": "markdown",
   "metadata": {},
   "source": [
    "看网上题，是考了指针的概念。\n",
    "\n",
    "2. Main idea\n",
    "We usei to keep track of position of the first zero in the list (which changes as we go).\n",
    "We usejto keep track of the first non-zero value after the first zero (which is pointed by i).\n",
    "Each time we havei correctly points to a zero and j correctly points to the first non-zero after i, we swap the values that store at i and j.\n",
    "By doing this, we move zeros towards the end of the list gradually until j reaches the end.\n",
    "And when it does, we are done.\n",
    "3. Remarks\n",
    "No return value needed, since we are doing in-place modification.\n",
    "We usenums[i], nums[j] = nums[j], nums[i] to achieve the in-place modification because Python allows you to swaps values in a list using syntax: x, y = y, x."
   ]
  }
 ],
 "metadata": {
  "language_info": {
   "name": "python"
  },
  "orig_nbformat": 4
 },
 "nbformat": 4,
 "nbformat_minor": 2
}
