{
 "cells": [
  {
   "cell_type": "markdown",
   "metadata": {},
   "source": [
    "## Content\n",
    "Given a string s, check if it can be constructed by taking a substring of it and appending multiple copies of the substring together.\n",
    "\n",
    " \n",
    "\n",
    "## Example 1:\n",
    "\n",
    "Input: s = \"abab\"\n",
    "Output: true\n",
    "Explanation: It is the substring \"ab\" twice.\n",
    "Example 2:\n",
    "\n",
    "Input: s = \"aba\"\n",
    "Output: false\n",
    "## Example 3:\n",
    "\n",
    "Input: s = \"abcabcabcabc\"\n",
    "Output: true\n",
    "Explanation: It is the substring \"abc\" four times or the substring \"abcabc\" twice.\n",
    " \n",
    "\n",
    "## Constraints:\n",
    "\n",
    "1 <= s.length <= 104\n",
    "s consists of lowercase English letters."
   ]
  },
  {
   "cell_type": "markdown",
   "metadata": {},
   "source": [
    "## 自己想法\n",
    "\n",
    "1. 要判断里面是否有重复元素就需要循环遍历\n",
    "2. 一个个去遍历就看不出来是哪个循环\n",
    "3. 考点是什么呢?\n",
    "\n",
    "\n",
    "同样是遍历因子，然后把新的切片乘以倍数，看得到的字符串是否和源字符串相同。"
   ]
  },
  {
   "cell_type": "code",
   "execution_count": 1,
   "metadata": {},
   "outputs": [],
   "source": [
    "def repeatedSubstringPattern(s):\n",
    "\n",
    "    len_s = len(s)\n",
    "    for i in range(1, len_s // 2 +1):\n",
    "        if len_s % i ==0:\n",
    "            sub_s = s[:i]\n",
    "            if sub_s * (len_s // i) == s:\n",
    "                return True\n",
    "    return False"
   ]
  },
  {
   "cell_type": "markdown",
   "metadata": {},
   "source": [
    "Success\n",
    "Details \n",
    "Runtime: 82 ms, faster than 62.17% of Python3 online submissions for Repeated Substring Pattern.\n",
    "Memory Usage: 13.8 MB, less than 99.54% of Python3 online submissions for Repeated Substring Pattern.\n",
    "Next challenges:"
   ]
  }
 ],
 "metadata": {
  "kernelspec": {
   "display_name": "Python 3.8.1 64-bit",
   "language": "python",
   "name": "python3"
  },
  "language_info": {
   "codemirror_mode": {
    "name": "ipython",
    "version": 3
   },
   "file_extension": ".py",
   "mimetype": "text/x-python",
   "name": "python",
   "nbconvert_exporter": "python",
   "pygments_lexer": "ipython3",
   "version": "3.8.1"
  },
  "orig_nbformat": 4,
  "vscode": {
   "interpreter": {
    "hash": "663dd40e2de813c0b0f595ebf54710d20b316650882efb44b9ca3a968cc17f71"
   }
  }
 },
 "nbformat": 4,
 "nbformat_minor": 2
}
